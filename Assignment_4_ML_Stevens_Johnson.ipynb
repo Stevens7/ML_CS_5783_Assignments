{
  "nbformat": 4,
  "nbformat_minor": 0,
  "metadata": {
    "colab": {
      "provenance": []
    },
    "kernelspec": {
      "name": "python3",
      "display_name": "Python 3"
    },
    "language_info": {
      "name": "python"
    }
  },
  "cells": [
    {
      "cell_type": "code",
      "source": [
        "import pandas as pd"
      ],
      "metadata": {
        "id": "cxovfEK7X90h"
      },
      "execution_count": null,
      "outputs": []
    },
    {
      "cell_type": "code",
      "source": [
        "data_train = pd.read_excel('/content/sample_data/Asssignment4_Data.xlsx', sheet_name='Train')\n",
        "data_test = pd.read_excel('/content/sample_data/Asssignment4_Data.xlsx', sheet_name='Test')"
      ],
      "metadata": {
        "id": "QkHTxpE3YYTD"
      },
      "execution_count": null,
      "outputs": []
    },
    {
      "cell_type": "code",
      "source": [
        "data_train"
      ],
      "metadata": {
        "colab": {
          "base_uri": "https://localhost:8080/",
          "height": 738
        },
        "id": "zrfWGYS0Ysi6",
        "outputId": "309cc73a-9466-4263-d67e-dde2c5ad2e7a"
      },
      "execution_count": null,
      "outputs": [
        {
          "output_type": "execute_result",
          "data": {
            "text/plain": [
              "    House ID  Local Price  Bathrooms  Land Area  Living area  # Garages  \\\n",
              "0          1       4.9176        1.0     3.4720        0.998        1.0   \n",
              "1          2       5.0208        1.0     3.5310        1.500        2.0   \n",
              "2          3       4.5429        1.0     2.2750        1.175        1.0   \n",
              "3          4       4.5573        1.0     4.0500        1.232        1.0   \n",
              "4          5       5.0597        1.0     4.4550        1.121        1.0   \n",
              "5          6       3.8910        1.0     4.4550        0.988        1.0   \n",
              "6          7       5.8980        1.0     5.8500        1.240        1.0   \n",
              "7          8       5.6039        1.0     9.5200        1.501        0.0   \n",
              "8          9      16.4202        2.5     9.8000        3.420        2.0   \n",
              "9         10      14.4598        2.5    12.8000        3.000        2.0   \n",
              "10        11       5.8282        1.0     6.4350        1.225        2.0   \n",
              "11        12       5.3003        1.0     4.9883        1.552        1.0   \n",
              "12        13       6.2712        1.0     5.5200        0.975        1.0   \n",
              "13        14       5.9592        1.0     6.6660        1.121        2.0   \n",
              "14        15       5.0500        1.0     5.0000        1.020        0.0   \n",
              "15        16       5.6039        1.0     9.5200        1.501        0.0   \n",
              "16        17       8.2464        1.5     5.1500        1.664        2.0   \n",
              "17        18       6.6969        1.5     6.9020        1.488        1.5   \n",
              "18        19       7.7841        1.5     7.1020        1.376        1.0   \n",
              "19        20       9.0384        1.0     7.8000        1.500        1.5   \n",
              "\n",
              "    # Rooms  # Bedrooms  Age of home Construction type  \n",
              "0         7           4           42         Apartment  \n",
              "1         7           4           62             House  \n",
              "2         6           3           40             Condo  \n",
              "3         6           3           54         Apartment  \n",
              "4         6           3           42         Apartment  \n",
              "5         6           3           56             Condo  \n",
              "6         7           3           51             Condo  \n",
              "7         6           3           32             House  \n",
              "8        10           5           42             Condo  \n",
              "9         9           5           14         Apartment  \n",
              "10        6           3           32             House  \n",
              "11        6           3           30             House  \n",
              "12        5           2           30             House  \n",
              "13        6           3           32             Condo  \n",
              "14        5           2           46         Apartment  \n",
              "15        6           3           32             House  \n",
              "16        8           4           50         Apartment  \n",
              "17        7           3           22             House  \n",
              "18        6           3           17             Condo  \n",
              "19        7           3           23         Apartment  "
            ],
            "text/html": [
              "\n",
              "  <div id=\"df-c484506e-53a6-4693-9c13-1738cecb4327\">\n",
              "    <div class=\"colab-df-container\">\n",
              "      <div>\n",
              "<style scoped>\n",
              "    .dataframe tbody tr th:only-of-type {\n",
              "        vertical-align: middle;\n",
              "    }\n",
              "\n",
              "    .dataframe tbody tr th {\n",
              "        vertical-align: top;\n",
              "    }\n",
              "\n",
              "    .dataframe thead th {\n",
              "        text-align: right;\n",
              "    }\n",
              "</style>\n",
              "<table border=\"1\" class=\"dataframe\">\n",
              "  <thead>\n",
              "    <tr style=\"text-align: right;\">\n",
              "      <th></th>\n",
              "      <th>House ID</th>\n",
              "      <th>Local Price</th>\n",
              "      <th>Bathrooms</th>\n",
              "      <th>Land Area</th>\n",
              "      <th>Living area</th>\n",
              "      <th># Garages</th>\n",
              "      <th># Rooms</th>\n",
              "      <th># Bedrooms</th>\n",
              "      <th>Age of home</th>\n",
              "      <th>Construction type</th>\n",
              "    </tr>\n",
              "  </thead>\n",
              "  <tbody>\n",
              "    <tr>\n",
              "      <th>0</th>\n",
              "      <td>1</td>\n",
              "      <td>4.9176</td>\n",
              "      <td>1.0</td>\n",
              "      <td>3.4720</td>\n",
              "      <td>0.998</td>\n",
              "      <td>1.0</td>\n",
              "      <td>7</td>\n",
              "      <td>4</td>\n",
              "      <td>42</td>\n",
              "      <td>Apartment</td>\n",
              "    </tr>\n",
              "    <tr>\n",
              "      <th>1</th>\n",
              "      <td>2</td>\n",
              "      <td>5.0208</td>\n",
              "      <td>1.0</td>\n",
              "      <td>3.5310</td>\n",
              "      <td>1.500</td>\n",
              "      <td>2.0</td>\n",
              "      <td>7</td>\n",
              "      <td>4</td>\n",
              "      <td>62</td>\n",
              "      <td>House</td>\n",
              "    </tr>\n",
              "    <tr>\n",
              "      <th>2</th>\n",
              "      <td>3</td>\n",
              "      <td>4.5429</td>\n",
              "      <td>1.0</td>\n",
              "      <td>2.2750</td>\n",
              "      <td>1.175</td>\n",
              "      <td>1.0</td>\n",
              "      <td>6</td>\n",
              "      <td>3</td>\n",
              "      <td>40</td>\n",
              "      <td>Condo</td>\n",
              "    </tr>\n",
              "    <tr>\n",
              "      <th>3</th>\n",
              "      <td>4</td>\n",
              "      <td>4.5573</td>\n",
              "      <td>1.0</td>\n",
              "      <td>4.0500</td>\n",
              "      <td>1.232</td>\n",
              "      <td>1.0</td>\n",
              "      <td>6</td>\n",
              "      <td>3</td>\n",
              "      <td>54</td>\n",
              "      <td>Apartment</td>\n",
              "    </tr>\n",
              "    <tr>\n",
              "      <th>4</th>\n",
              "      <td>5</td>\n",
              "      <td>5.0597</td>\n",
              "      <td>1.0</td>\n",
              "      <td>4.4550</td>\n",
              "      <td>1.121</td>\n",
              "      <td>1.0</td>\n",
              "      <td>6</td>\n",
              "      <td>3</td>\n",
              "      <td>42</td>\n",
              "      <td>Apartment</td>\n",
              "    </tr>\n",
              "    <tr>\n",
              "      <th>5</th>\n",
              "      <td>6</td>\n",
              "      <td>3.8910</td>\n",
              "      <td>1.0</td>\n",
              "      <td>4.4550</td>\n",
              "      <td>0.988</td>\n",
              "      <td>1.0</td>\n",
              "      <td>6</td>\n",
              "      <td>3</td>\n",
              "      <td>56</td>\n",
              "      <td>Condo</td>\n",
              "    </tr>\n",
              "    <tr>\n",
              "      <th>6</th>\n",
              "      <td>7</td>\n",
              "      <td>5.8980</td>\n",
              "      <td>1.0</td>\n",
              "      <td>5.8500</td>\n",
              "      <td>1.240</td>\n",
              "      <td>1.0</td>\n",
              "      <td>7</td>\n",
              "      <td>3</td>\n",
              "      <td>51</td>\n",
              "      <td>Condo</td>\n",
              "    </tr>\n",
              "    <tr>\n",
              "      <th>7</th>\n",
              "      <td>8</td>\n",
              "      <td>5.6039</td>\n",
              "      <td>1.0</td>\n",
              "      <td>9.5200</td>\n",
              "      <td>1.501</td>\n",
              "      <td>0.0</td>\n",
              "      <td>6</td>\n",
              "      <td>3</td>\n",
              "      <td>32</td>\n",
              "      <td>House</td>\n",
              "    </tr>\n",
              "    <tr>\n",
              "      <th>8</th>\n",
              "      <td>9</td>\n",
              "      <td>16.4202</td>\n",
              "      <td>2.5</td>\n",
              "      <td>9.8000</td>\n",
              "      <td>3.420</td>\n",
              "      <td>2.0</td>\n",
              "      <td>10</td>\n",
              "      <td>5</td>\n",
              "      <td>42</td>\n",
              "      <td>Condo</td>\n",
              "    </tr>\n",
              "    <tr>\n",
              "      <th>9</th>\n",
              "      <td>10</td>\n",
              "      <td>14.4598</td>\n",
              "      <td>2.5</td>\n",
              "      <td>12.8000</td>\n",
              "      <td>3.000</td>\n",
              "      <td>2.0</td>\n",
              "      <td>9</td>\n",
              "      <td>5</td>\n",
              "      <td>14</td>\n",
              "      <td>Apartment</td>\n",
              "    </tr>\n",
              "    <tr>\n",
              "      <th>10</th>\n",
              "      <td>11</td>\n",
              "      <td>5.8282</td>\n",
              "      <td>1.0</td>\n",
              "      <td>6.4350</td>\n",
              "      <td>1.225</td>\n",
              "      <td>2.0</td>\n",
              "      <td>6</td>\n",
              "      <td>3</td>\n",
              "      <td>32</td>\n",
              "      <td>House</td>\n",
              "    </tr>\n",
              "    <tr>\n",
              "      <th>11</th>\n",
              "      <td>12</td>\n",
              "      <td>5.3003</td>\n",
              "      <td>1.0</td>\n",
              "      <td>4.9883</td>\n",
              "      <td>1.552</td>\n",
              "      <td>1.0</td>\n",
              "      <td>6</td>\n",
              "      <td>3</td>\n",
              "      <td>30</td>\n",
              "      <td>House</td>\n",
              "    </tr>\n",
              "    <tr>\n",
              "      <th>12</th>\n",
              "      <td>13</td>\n",
              "      <td>6.2712</td>\n",
              "      <td>1.0</td>\n",
              "      <td>5.5200</td>\n",
              "      <td>0.975</td>\n",
              "      <td>1.0</td>\n",
              "      <td>5</td>\n",
              "      <td>2</td>\n",
              "      <td>30</td>\n",
              "      <td>House</td>\n",
              "    </tr>\n",
              "    <tr>\n",
              "      <th>13</th>\n",
              "      <td>14</td>\n",
              "      <td>5.9592</td>\n",
              "      <td>1.0</td>\n",
              "      <td>6.6660</td>\n",
              "      <td>1.121</td>\n",
              "      <td>2.0</td>\n",
              "      <td>6</td>\n",
              "      <td>3</td>\n",
              "      <td>32</td>\n",
              "      <td>Condo</td>\n",
              "    </tr>\n",
              "    <tr>\n",
              "      <th>14</th>\n",
              "      <td>15</td>\n",
              "      <td>5.0500</td>\n",
              "      <td>1.0</td>\n",
              "      <td>5.0000</td>\n",
              "      <td>1.020</td>\n",
              "      <td>0.0</td>\n",
              "      <td>5</td>\n",
              "      <td>2</td>\n",
              "      <td>46</td>\n",
              "      <td>Apartment</td>\n",
              "    </tr>\n",
              "    <tr>\n",
              "      <th>15</th>\n",
              "      <td>16</td>\n",
              "      <td>5.6039</td>\n",
              "      <td>1.0</td>\n",
              "      <td>9.5200</td>\n",
              "      <td>1.501</td>\n",
              "      <td>0.0</td>\n",
              "      <td>6</td>\n",
              "      <td>3</td>\n",
              "      <td>32</td>\n",
              "      <td>House</td>\n",
              "    </tr>\n",
              "    <tr>\n",
              "      <th>16</th>\n",
              "      <td>17</td>\n",
              "      <td>8.2464</td>\n",
              "      <td>1.5</td>\n",
              "      <td>5.1500</td>\n",
              "      <td>1.664</td>\n",
              "      <td>2.0</td>\n",
              "      <td>8</td>\n",
              "      <td>4</td>\n",
              "      <td>50</td>\n",
              "      <td>Apartment</td>\n",
              "    </tr>\n",
              "    <tr>\n",
              "      <th>17</th>\n",
              "      <td>18</td>\n",
              "      <td>6.6969</td>\n",
              "      <td>1.5</td>\n",
              "      <td>6.9020</td>\n",
              "      <td>1.488</td>\n",
              "      <td>1.5</td>\n",
              "      <td>7</td>\n",
              "      <td>3</td>\n",
              "      <td>22</td>\n",
              "      <td>House</td>\n",
              "    </tr>\n",
              "    <tr>\n",
              "      <th>18</th>\n",
              "      <td>19</td>\n",
              "      <td>7.7841</td>\n",
              "      <td>1.5</td>\n",
              "      <td>7.1020</td>\n",
              "      <td>1.376</td>\n",
              "      <td>1.0</td>\n",
              "      <td>6</td>\n",
              "      <td>3</td>\n",
              "      <td>17</td>\n",
              "      <td>Condo</td>\n",
              "    </tr>\n",
              "    <tr>\n",
              "      <th>19</th>\n",
              "      <td>20</td>\n",
              "      <td>9.0384</td>\n",
              "      <td>1.0</td>\n",
              "      <td>7.8000</td>\n",
              "      <td>1.500</td>\n",
              "      <td>1.5</td>\n",
              "      <td>7</td>\n",
              "      <td>3</td>\n",
              "      <td>23</td>\n",
              "      <td>Apartment</td>\n",
              "    </tr>\n",
              "  </tbody>\n",
              "</table>\n",
              "</div>\n",
              "      <button class=\"colab-df-convert\" onclick=\"convertToInteractive('df-c484506e-53a6-4693-9c13-1738cecb4327')\"\n",
              "              title=\"Convert this dataframe to an interactive table.\"\n",
              "              style=\"display:none;\">\n",
              "        \n",
              "  <svg xmlns=\"http://www.w3.org/2000/svg\" height=\"24px\"viewBox=\"0 0 24 24\"\n",
              "       width=\"24px\">\n",
              "    <path d=\"M0 0h24v24H0V0z\" fill=\"none\"/>\n",
              "    <path d=\"M18.56 5.44l.94 2.06.94-2.06 2.06-.94-2.06-.94-.94-2.06-.94 2.06-2.06.94zm-11 1L8.5 8.5l.94-2.06 2.06-.94-2.06-.94L8.5 2.5l-.94 2.06-2.06.94zm10 10l.94 2.06.94-2.06 2.06-.94-2.06-.94-.94-2.06-.94 2.06-2.06.94z\"/><path d=\"M17.41 7.96l-1.37-1.37c-.4-.4-.92-.59-1.43-.59-.52 0-1.04.2-1.43.59L10.3 9.45l-7.72 7.72c-.78.78-.78 2.05 0 2.83L4 21.41c.39.39.9.59 1.41.59.51 0 1.02-.2 1.41-.59l7.78-7.78 2.81-2.81c.8-.78.8-2.07 0-2.86zM5.41 20L4 18.59l7.72-7.72 1.47 1.35L5.41 20z\"/>\n",
              "  </svg>\n",
              "      </button>\n",
              "      \n",
              "  <style>\n",
              "    .colab-df-container {\n",
              "      display:flex;\n",
              "      flex-wrap:wrap;\n",
              "      gap: 12px;\n",
              "    }\n",
              "\n",
              "    .colab-df-convert {\n",
              "      background-color: #E8F0FE;\n",
              "      border: none;\n",
              "      border-radius: 50%;\n",
              "      cursor: pointer;\n",
              "      display: none;\n",
              "      fill: #1967D2;\n",
              "      height: 32px;\n",
              "      padding: 0 0 0 0;\n",
              "      width: 32px;\n",
              "    }\n",
              "\n",
              "    .colab-df-convert:hover {\n",
              "      background-color: #E2EBFA;\n",
              "      box-shadow: 0px 1px 2px rgba(60, 64, 67, 0.3), 0px 1px 3px 1px rgba(60, 64, 67, 0.15);\n",
              "      fill: #174EA6;\n",
              "    }\n",
              "\n",
              "    [theme=dark] .colab-df-convert {\n",
              "      background-color: #3B4455;\n",
              "      fill: #D2E3FC;\n",
              "    }\n",
              "\n",
              "    [theme=dark] .colab-df-convert:hover {\n",
              "      background-color: #434B5C;\n",
              "      box-shadow: 0px 1px 3px 1px rgba(0, 0, 0, 0.15);\n",
              "      filter: drop-shadow(0px 1px 2px rgba(0, 0, 0, 0.3));\n",
              "      fill: #FFFFFF;\n",
              "    }\n",
              "  </style>\n",
              "\n",
              "      <script>\n",
              "        const buttonEl =\n",
              "          document.querySelector('#df-c484506e-53a6-4693-9c13-1738cecb4327 button.colab-df-convert');\n",
              "        buttonEl.style.display =\n",
              "          google.colab.kernel.accessAllowed ? 'block' : 'none';\n",
              "\n",
              "        async function convertToInteractive(key) {\n",
              "          const element = document.querySelector('#df-c484506e-53a6-4693-9c13-1738cecb4327');\n",
              "          const dataTable =\n",
              "            await google.colab.kernel.invokeFunction('convertToInteractive',\n",
              "                                                     [key], {});\n",
              "          if (!dataTable) return;\n",
              "\n",
              "          const docLinkHtml = 'Like what you see? Visit the ' +\n",
              "            '<a target=\"_blank\" href=https://colab.research.google.com/notebooks/data_table.ipynb>data table notebook</a>'\n",
              "            + ' to learn more about interactive tables.';\n",
              "          element.innerHTML = '';\n",
              "          dataTable['output_type'] = 'display_data';\n",
              "          await google.colab.output.renderOutput(dataTable, element);\n",
              "          const docLink = document.createElement('div');\n",
              "          docLink.innerHTML = docLinkHtml;\n",
              "          element.appendChild(docLink);\n",
              "        }\n",
              "      </script>\n",
              "    </div>\n",
              "  </div>\n",
              "  "
            ]
          },
          "metadata": {},
          "execution_count": 7
        }
      ]
    },
    {
      "cell_type": "code",
      "source": [
        "data_test"
      ],
      "metadata": {
        "colab": {
          "base_uri": "https://localhost:8080/",
          "height": 206
        },
        "id": "e4p2wXuCdg-x",
        "outputId": "0c03ddb5-7aa4-423a-f09c-def3195669de"
      },
      "execution_count": null,
      "outputs": [
        {
          "output_type": "execute_result",
          "data": {
            "text/plain": [
              "   House ID  Local Price  Bathrooms  Land Area  Living area  # Garages  \\\n",
              "0        24       6.0931        1.5     6.7265        1.652        1.0   \n",
              "1        25       8.3607        1.5     9.1500        1.777        2.0   \n",
              "2        26       8.1400        1.0     8.0000        1.504        2.0   \n",
              "3        27       9.1416        1.5     7.3262        1.831        1.5   \n",
              "4        28      12.0000        1.5     5.0000        1.200        2.0   \n",
              "\n",
              "   # Rooms  # Bedrooms  Age of home Construction type  \n",
              "0        6           3           44         Apartment  \n",
              "1        8           4           48             House  \n",
              "2        7           3            3             House  \n",
              "3        8           4           31         Apartment  \n",
              "4        6           3           30         Apartment  "
            ],
            "text/html": [
              "\n",
              "  <div id=\"df-fbeacc37-aacd-4800-afd7-40d988cbef53\">\n",
              "    <div class=\"colab-df-container\">\n",
              "      <div>\n",
              "<style scoped>\n",
              "    .dataframe tbody tr th:only-of-type {\n",
              "        vertical-align: middle;\n",
              "    }\n",
              "\n",
              "    .dataframe tbody tr th {\n",
              "        vertical-align: top;\n",
              "    }\n",
              "\n",
              "    .dataframe thead th {\n",
              "        text-align: right;\n",
              "    }\n",
              "</style>\n",
              "<table border=\"1\" class=\"dataframe\">\n",
              "  <thead>\n",
              "    <tr style=\"text-align: right;\">\n",
              "      <th></th>\n",
              "      <th>House ID</th>\n",
              "      <th>Local Price</th>\n",
              "      <th>Bathrooms</th>\n",
              "      <th>Land Area</th>\n",
              "      <th>Living area</th>\n",
              "      <th># Garages</th>\n",
              "      <th># Rooms</th>\n",
              "      <th># Bedrooms</th>\n",
              "      <th>Age of home</th>\n",
              "      <th>Construction type</th>\n",
              "    </tr>\n",
              "  </thead>\n",
              "  <tbody>\n",
              "    <tr>\n",
              "      <th>0</th>\n",
              "      <td>24</td>\n",
              "      <td>6.0931</td>\n",
              "      <td>1.5</td>\n",
              "      <td>6.7265</td>\n",
              "      <td>1.652</td>\n",
              "      <td>1.0</td>\n",
              "      <td>6</td>\n",
              "      <td>3</td>\n",
              "      <td>44</td>\n",
              "      <td>Apartment</td>\n",
              "    </tr>\n",
              "    <tr>\n",
              "      <th>1</th>\n",
              "      <td>25</td>\n",
              "      <td>8.3607</td>\n",
              "      <td>1.5</td>\n",
              "      <td>9.1500</td>\n",
              "      <td>1.777</td>\n",
              "      <td>2.0</td>\n",
              "      <td>8</td>\n",
              "      <td>4</td>\n",
              "      <td>48</td>\n",
              "      <td>House</td>\n",
              "    </tr>\n",
              "    <tr>\n",
              "      <th>2</th>\n",
              "      <td>26</td>\n",
              "      <td>8.1400</td>\n",
              "      <td>1.0</td>\n",
              "      <td>8.0000</td>\n",
              "      <td>1.504</td>\n",
              "      <td>2.0</td>\n",
              "      <td>7</td>\n",
              "      <td>3</td>\n",
              "      <td>3</td>\n",
              "      <td>House</td>\n",
              "    </tr>\n",
              "    <tr>\n",
              "      <th>3</th>\n",
              "      <td>27</td>\n",
              "      <td>9.1416</td>\n",
              "      <td>1.5</td>\n",
              "      <td>7.3262</td>\n",
              "      <td>1.831</td>\n",
              "      <td>1.5</td>\n",
              "      <td>8</td>\n",
              "      <td>4</td>\n",
              "      <td>31</td>\n",
              "      <td>Apartment</td>\n",
              "    </tr>\n",
              "    <tr>\n",
              "      <th>4</th>\n",
              "      <td>28</td>\n",
              "      <td>12.0000</td>\n",
              "      <td>1.5</td>\n",
              "      <td>5.0000</td>\n",
              "      <td>1.200</td>\n",
              "      <td>2.0</td>\n",
              "      <td>6</td>\n",
              "      <td>3</td>\n",
              "      <td>30</td>\n",
              "      <td>Apartment</td>\n",
              "    </tr>\n",
              "  </tbody>\n",
              "</table>\n",
              "</div>\n",
              "      <button class=\"colab-df-convert\" onclick=\"convertToInteractive('df-fbeacc37-aacd-4800-afd7-40d988cbef53')\"\n",
              "              title=\"Convert this dataframe to an interactive table.\"\n",
              "              style=\"display:none;\">\n",
              "        \n",
              "  <svg xmlns=\"http://www.w3.org/2000/svg\" height=\"24px\"viewBox=\"0 0 24 24\"\n",
              "       width=\"24px\">\n",
              "    <path d=\"M0 0h24v24H0V0z\" fill=\"none\"/>\n",
              "    <path d=\"M18.56 5.44l.94 2.06.94-2.06 2.06-.94-2.06-.94-.94-2.06-.94 2.06-2.06.94zm-11 1L8.5 8.5l.94-2.06 2.06-.94-2.06-.94L8.5 2.5l-.94 2.06-2.06.94zm10 10l.94 2.06.94-2.06 2.06-.94-2.06-.94-.94-2.06-.94 2.06-2.06.94z\"/><path d=\"M17.41 7.96l-1.37-1.37c-.4-.4-.92-.59-1.43-.59-.52 0-1.04.2-1.43.59L10.3 9.45l-7.72 7.72c-.78.78-.78 2.05 0 2.83L4 21.41c.39.39.9.59 1.41.59.51 0 1.02-.2 1.41-.59l7.78-7.78 2.81-2.81c.8-.78.8-2.07 0-2.86zM5.41 20L4 18.59l7.72-7.72 1.47 1.35L5.41 20z\"/>\n",
              "  </svg>\n",
              "      </button>\n",
              "      \n",
              "  <style>\n",
              "    .colab-df-container {\n",
              "      display:flex;\n",
              "      flex-wrap:wrap;\n",
              "      gap: 12px;\n",
              "    }\n",
              "\n",
              "    .colab-df-convert {\n",
              "      background-color: #E8F0FE;\n",
              "      border: none;\n",
              "      border-radius: 50%;\n",
              "      cursor: pointer;\n",
              "      display: none;\n",
              "      fill: #1967D2;\n",
              "      height: 32px;\n",
              "      padding: 0 0 0 0;\n",
              "      width: 32px;\n",
              "    }\n",
              "\n",
              "    .colab-df-convert:hover {\n",
              "      background-color: #E2EBFA;\n",
              "      box-shadow: 0px 1px 2px rgba(60, 64, 67, 0.3), 0px 1px 3px 1px rgba(60, 64, 67, 0.15);\n",
              "      fill: #174EA6;\n",
              "    }\n",
              "\n",
              "    [theme=dark] .colab-df-convert {\n",
              "      background-color: #3B4455;\n",
              "      fill: #D2E3FC;\n",
              "    }\n",
              "\n",
              "    [theme=dark] .colab-df-convert:hover {\n",
              "      background-color: #434B5C;\n",
              "      box-shadow: 0px 1px 3px 1px rgba(0, 0, 0, 0.15);\n",
              "      filter: drop-shadow(0px 1px 2px rgba(0, 0, 0, 0.3));\n",
              "      fill: #FFFFFF;\n",
              "    }\n",
              "  </style>\n",
              "\n",
              "      <script>\n",
              "        const buttonEl =\n",
              "          document.querySelector('#df-fbeacc37-aacd-4800-afd7-40d988cbef53 button.colab-df-convert');\n",
              "        buttonEl.style.display =\n",
              "          google.colab.kernel.accessAllowed ? 'block' : 'none';\n",
              "\n",
              "        async function convertToInteractive(key) {\n",
              "          const element = document.querySelector('#df-fbeacc37-aacd-4800-afd7-40d988cbef53');\n",
              "          const dataTable =\n",
              "            await google.colab.kernel.invokeFunction('convertToInteractive',\n",
              "                                                     [key], {});\n",
              "          if (!dataTable) return;\n",
              "\n",
              "          const docLinkHtml = 'Like what you see? Visit the ' +\n",
              "            '<a target=\"_blank\" href=https://colab.research.google.com/notebooks/data_table.ipynb>data table notebook</a>'\n",
              "            + ' to learn more about interactive tables.';\n",
              "          element.innerHTML = '';\n",
              "          dataTable['output_type'] = 'display_data';\n",
              "          await google.colab.output.renderOutput(dataTable, element);\n",
              "          const docLink = document.createElement('div');\n",
              "          docLink.innerHTML = docLinkHtml;\n",
              "          element.appendChild(docLink);\n",
              "        }\n",
              "      </script>\n",
              "    </div>\n",
              "  </div>\n",
              "  "
            ]
          },
          "metadata": {},
          "execution_count": 25
        }
      ]
    },
    {
      "cell_type": "code",
      "source": [
        "features = [\"Local Price\",\"Bathrooms\", \"Land Area\",\"Living area\", \"# Garages\", \"# Rooms\", \"# Bedrooms\", \"Age of home\"]\n",
        "X_train = data_train[[\"Local Price\",\"Bathrooms\", \"Land Area\",\"Living area\", \"# Garages\", \"# Rooms\", \"# Bedrooms\", \"Age of home\"]]\n",
        "y_train = data_train[[\"Construction type\"]]"
      ],
      "metadata": {
        "id": "pChoPee_aOW1"
      },
      "execution_count": null,
      "outputs": []
    },
    {
      "cell_type": "code",
      "source": [
        "X_test = data_test[[\"Local Price\",\"Bathrooms\", \"Land Area\",\"Living area\", \"# Garages\", \"# Rooms\", \"# Bedrooms\", \"Age of home\"]]\n",
        "y_test = data_test[[\"Construction type\"]]"
      ],
      "metadata": {
        "id": "0CbqOrcFcqK_"
      },
      "execution_count": null,
      "outputs": []
    },
    {
      "cell_type": "code",
      "source": [
        "X_train"
      ],
      "metadata": {
        "colab": {
          "base_uri": "https://localhost:8080/",
          "height": 677
        },
        "id": "DGDj3J7zbugO",
        "outputId": "82856301-f450-49f0-a39a-680af9e07e9f"
      },
      "execution_count": null,
      "outputs": [
        {
          "output_type": "execute_result",
          "data": {
            "text/plain": [
              "    Local Price  Bathrooms  Land Area  Living area  # Garages  # Rooms  \\\n",
              "0        4.9176        1.0     3.4720        0.998        1.0        7   \n",
              "1        5.0208        1.0     3.5310        1.500        2.0        7   \n",
              "2        4.5429        1.0     2.2750        1.175        1.0        6   \n",
              "3        4.5573        1.0     4.0500        1.232        1.0        6   \n",
              "4        5.0597        1.0     4.4550        1.121        1.0        6   \n",
              "5        3.8910        1.0     4.4550        0.988        1.0        6   \n",
              "6        5.8980        1.0     5.8500        1.240        1.0        7   \n",
              "7        5.6039        1.0     9.5200        1.501        0.0        6   \n",
              "8       16.4202        2.5     9.8000        3.420        2.0       10   \n",
              "9       14.4598        2.5    12.8000        3.000        2.0        9   \n",
              "10       5.8282        1.0     6.4350        1.225        2.0        6   \n",
              "11       5.3003        1.0     4.9883        1.552        1.0        6   \n",
              "12       6.2712        1.0     5.5200        0.975        1.0        5   \n",
              "13       5.9592        1.0     6.6660        1.121        2.0        6   \n",
              "14       5.0500        1.0     5.0000        1.020        0.0        5   \n",
              "15       5.6039        1.0     9.5200        1.501        0.0        6   \n",
              "16       8.2464        1.5     5.1500        1.664        2.0        8   \n",
              "17       6.6969        1.5     6.9020        1.488        1.5        7   \n",
              "18       7.7841        1.5     7.1020        1.376        1.0        6   \n",
              "19       9.0384        1.0     7.8000        1.500        1.5        7   \n",
              "\n",
              "    # Bedrooms  Age of home  \n",
              "0            4           42  \n",
              "1            4           62  \n",
              "2            3           40  \n",
              "3            3           54  \n",
              "4            3           42  \n",
              "5            3           56  \n",
              "6            3           51  \n",
              "7            3           32  \n",
              "8            5           42  \n",
              "9            5           14  \n",
              "10           3           32  \n",
              "11           3           30  \n",
              "12           2           30  \n",
              "13           3           32  \n",
              "14           2           46  \n",
              "15           3           32  \n",
              "16           4           50  \n",
              "17           3           22  \n",
              "18           3           17  \n",
              "19           3           23  "
            ],
            "text/html": [
              "\n",
              "  <div id=\"df-1f78bb81-3439-4d4e-a2e2-a6025b46187d\">\n",
              "    <div class=\"colab-df-container\">\n",
              "      <div>\n",
              "<style scoped>\n",
              "    .dataframe tbody tr th:only-of-type {\n",
              "        vertical-align: middle;\n",
              "    }\n",
              "\n",
              "    .dataframe tbody tr th {\n",
              "        vertical-align: top;\n",
              "    }\n",
              "\n",
              "    .dataframe thead th {\n",
              "        text-align: right;\n",
              "    }\n",
              "</style>\n",
              "<table border=\"1\" class=\"dataframe\">\n",
              "  <thead>\n",
              "    <tr style=\"text-align: right;\">\n",
              "      <th></th>\n",
              "      <th>Local Price</th>\n",
              "      <th>Bathrooms</th>\n",
              "      <th>Land Area</th>\n",
              "      <th>Living area</th>\n",
              "      <th># Garages</th>\n",
              "      <th># Rooms</th>\n",
              "      <th># Bedrooms</th>\n",
              "      <th>Age of home</th>\n",
              "    </tr>\n",
              "  </thead>\n",
              "  <tbody>\n",
              "    <tr>\n",
              "      <th>0</th>\n",
              "      <td>4.9176</td>\n",
              "      <td>1.0</td>\n",
              "      <td>3.4720</td>\n",
              "      <td>0.998</td>\n",
              "      <td>1.0</td>\n",
              "      <td>7</td>\n",
              "      <td>4</td>\n",
              "      <td>42</td>\n",
              "    </tr>\n",
              "    <tr>\n",
              "      <th>1</th>\n",
              "      <td>5.0208</td>\n",
              "      <td>1.0</td>\n",
              "      <td>3.5310</td>\n",
              "      <td>1.500</td>\n",
              "      <td>2.0</td>\n",
              "      <td>7</td>\n",
              "      <td>4</td>\n",
              "      <td>62</td>\n",
              "    </tr>\n",
              "    <tr>\n",
              "      <th>2</th>\n",
              "      <td>4.5429</td>\n",
              "      <td>1.0</td>\n",
              "      <td>2.2750</td>\n",
              "      <td>1.175</td>\n",
              "      <td>1.0</td>\n",
              "      <td>6</td>\n",
              "      <td>3</td>\n",
              "      <td>40</td>\n",
              "    </tr>\n",
              "    <tr>\n",
              "      <th>3</th>\n",
              "      <td>4.5573</td>\n",
              "      <td>1.0</td>\n",
              "      <td>4.0500</td>\n",
              "      <td>1.232</td>\n",
              "      <td>1.0</td>\n",
              "      <td>6</td>\n",
              "      <td>3</td>\n",
              "      <td>54</td>\n",
              "    </tr>\n",
              "    <tr>\n",
              "      <th>4</th>\n",
              "      <td>5.0597</td>\n",
              "      <td>1.0</td>\n",
              "      <td>4.4550</td>\n",
              "      <td>1.121</td>\n",
              "      <td>1.0</td>\n",
              "      <td>6</td>\n",
              "      <td>3</td>\n",
              "      <td>42</td>\n",
              "    </tr>\n",
              "    <tr>\n",
              "      <th>5</th>\n",
              "      <td>3.8910</td>\n",
              "      <td>1.0</td>\n",
              "      <td>4.4550</td>\n",
              "      <td>0.988</td>\n",
              "      <td>1.0</td>\n",
              "      <td>6</td>\n",
              "      <td>3</td>\n",
              "      <td>56</td>\n",
              "    </tr>\n",
              "    <tr>\n",
              "      <th>6</th>\n",
              "      <td>5.8980</td>\n",
              "      <td>1.0</td>\n",
              "      <td>5.8500</td>\n",
              "      <td>1.240</td>\n",
              "      <td>1.0</td>\n",
              "      <td>7</td>\n",
              "      <td>3</td>\n",
              "      <td>51</td>\n",
              "    </tr>\n",
              "    <tr>\n",
              "      <th>7</th>\n",
              "      <td>5.6039</td>\n",
              "      <td>1.0</td>\n",
              "      <td>9.5200</td>\n",
              "      <td>1.501</td>\n",
              "      <td>0.0</td>\n",
              "      <td>6</td>\n",
              "      <td>3</td>\n",
              "      <td>32</td>\n",
              "    </tr>\n",
              "    <tr>\n",
              "      <th>8</th>\n",
              "      <td>16.4202</td>\n",
              "      <td>2.5</td>\n",
              "      <td>9.8000</td>\n",
              "      <td>3.420</td>\n",
              "      <td>2.0</td>\n",
              "      <td>10</td>\n",
              "      <td>5</td>\n",
              "      <td>42</td>\n",
              "    </tr>\n",
              "    <tr>\n",
              "      <th>9</th>\n",
              "      <td>14.4598</td>\n",
              "      <td>2.5</td>\n",
              "      <td>12.8000</td>\n",
              "      <td>3.000</td>\n",
              "      <td>2.0</td>\n",
              "      <td>9</td>\n",
              "      <td>5</td>\n",
              "      <td>14</td>\n",
              "    </tr>\n",
              "    <tr>\n",
              "      <th>10</th>\n",
              "      <td>5.8282</td>\n",
              "      <td>1.0</td>\n",
              "      <td>6.4350</td>\n",
              "      <td>1.225</td>\n",
              "      <td>2.0</td>\n",
              "      <td>6</td>\n",
              "      <td>3</td>\n",
              "      <td>32</td>\n",
              "    </tr>\n",
              "    <tr>\n",
              "      <th>11</th>\n",
              "      <td>5.3003</td>\n",
              "      <td>1.0</td>\n",
              "      <td>4.9883</td>\n",
              "      <td>1.552</td>\n",
              "      <td>1.0</td>\n",
              "      <td>6</td>\n",
              "      <td>3</td>\n",
              "      <td>30</td>\n",
              "    </tr>\n",
              "    <tr>\n",
              "      <th>12</th>\n",
              "      <td>6.2712</td>\n",
              "      <td>1.0</td>\n",
              "      <td>5.5200</td>\n",
              "      <td>0.975</td>\n",
              "      <td>1.0</td>\n",
              "      <td>5</td>\n",
              "      <td>2</td>\n",
              "      <td>30</td>\n",
              "    </tr>\n",
              "    <tr>\n",
              "      <th>13</th>\n",
              "      <td>5.9592</td>\n",
              "      <td>1.0</td>\n",
              "      <td>6.6660</td>\n",
              "      <td>1.121</td>\n",
              "      <td>2.0</td>\n",
              "      <td>6</td>\n",
              "      <td>3</td>\n",
              "      <td>32</td>\n",
              "    </tr>\n",
              "    <tr>\n",
              "      <th>14</th>\n",
              "      <td>5.0500</td>\n",
              "      <td>1.0</td>\n",
              "      <td>5.0000</td>\n",
              "      <td>1.020</td>\n",
              "      <td>0.0</td>\n",
              "      <td>5</td>\n",
              "      <td>2</td>\n",
              "      <td>46</td>\n",
              "    </tr>\n",
              "    <tr>\n",
              "      <th>15</th>\n",
              "      <td>5.6039</td>\n",
              "      <td>1.0</td>\n",
              "      <td>9.5200</td>\n",
              "      <td>1.501</td>\n",
              "      <td>0.0</td>\n",
              "      <td>6</td>\n",
              "      <td>3</td>\n",
              "      <td>32</td>\n",
              "    </tr>\n",
              "    <tr>\n",
              "      <th>16</th>\n",
              "      <td>8.2464</td>\n",
              "      <td>1.5</td>\n",
              "      <td>5.1500</td>\n",
              "      <td>1.664</td>\n",
              "      <td>2.0</td>\n",
              "      <td>8</td>\n",
              "      <td>4</td>\n",
              "      <td>50</td>\n",
              "    </tr>\n",
              "    <tr>\n",
              "      <th>17</th>\n",
              "      <td>6.6969</td>\n",
              "      <td>1.5</td>\n",
              "      <td>6.9020</td>\n",
              "      <td>1.488</td>\n",
              "      <td>1.5</td>\n",
              "      <td>7</td>\n",
              "      <td>3</td>\n",
              "      <td>22</td>\n",
              "    </tr>\n",
              "    <tr>\n",
              "      <th>18</th>\n",
              "      <td>7.7841</td>\n",
              "      <td>1.5</td>\n",
              "      <td>7.1020</td>\n",
              "      <td>1.376</td>\n",
              "      <td>1.0</td>\n",
              "      <td>6</td>\n",
              "      <td>3</td>\n",
              "      <td>17</td>\n",
              "    </tr>\n",
              "    <tr>\n",
              "      <th>19</th>\n",
              "      <td>9.0384</td>\n",
              "      <td>1.0</td>\n",
              "      <td>7.8000</td>\n",
              "      <td>1.500</td>\n",
              "      <td>1.5</td>\n",
              "      <td>7</td>\n",
              "      <td>3</td>\n",
              "      <td>23</td>\n",
              "    </tr>\n",
              "  </tbody>\n",
              "</table>\n",
              "</div>\n",
              "      <button class=\"colab-df-convert\" onclick=\"convertToInteractive('df-1f78bb81-3439-4d4e-a2e2-a6025b46187d')\"\n",
              "              title=\"Convert this dataframe to an interactive table.\"\n",
              "              style=\"display:none;\">\n",
              "        \n",
              "  <svg xmlns=\"http://www.w3.org/2000/svg\" height=\"24px\"viewBox=\"0 0 24 24\"\n",
              "       width=\"24px\">\n",
              "    <path d=\"M0 0h24v24H0V0z\" fill=\"none\"/>\n",
              "    <path d=\"M18.56 5.44l.94 2.06.94-2.06 2.06-.94-2.06-.94-.94-2.06-.94 2.06-2.06.94zm-11 1L8.5 8.5l.94-2.06 2.06-.94-2.06-.94L8.5 2.5l-.94 2.06-2.06.94zm10 10l.94 2.06.94-2.06 2.06-.94-2.06-.94-.94-2.06-.94 2.06-2.06.94z\"/><path d=\"M17.41 7.96l-1.37-1.37c-.4-.4-.92-.59-1.43-.59-.52 0-1.04.2-1.43.59L10.3 9.45l-7.72 7.72c-.78.78-.78 2.05 0 2.83L4 21.41c.39.39.9.59 1.41.59.51 0 1.02-.2 1.41-.59l7.78-7.78 2.81-2.81c.8-.78.8-2.07 0-2.86zM5.41 20L4 18.59l7.72-7.72 1.47 1.35L5.41 20z\"/>\n",
              "  </svg>\n",
              "      </button>\n",
              "      \n",
              "  <style>\n",
              "    .colab-df-container {\n",
              "      display:flex;\n",
              "      flex-wrap:wrap;\n",
              "      gap: 12px;\n",
              "    }\n",
              "\n",
              "    .colab-df-convert {\n",
              "      background-color: #E8F0FE;\n",
              "      border: none;\n",
              "      border-radius: 50%;\n",
              "      cursor: pointer;\n",
              "      display: none;\n",
              "      fill: #1967D2;\n",
              "      height: 32px;\n",
              "      padding: 0 0 0 0;\n",
              "      width: 32px;\n",
              "    }\n",
              "\n",
              "    .colab-df-convert:hover {\n",
              "      background-color: #E2EBFA;\n",
              "      box-shadow: 0px 1px 2px rgba(60, 64, 67, 0.3), 0px 1px 3px 1px rgba(60, 64, 67, 0.15);\n",
              "      fill: #174EA6;\n",
              "    }\n",
              "\n",
              "    [theme=dark] .colab-df-convert {\n",
              "      background-color: #3B4455;\n",
              "      fill: #D2E3FC;\n",
              "    }\n",
              "\n",
              "    [theme=dark] .colab-df-convert:hover {\n",
              "      background-color: #434B5C;\n",
              "      box-shadow: 0px 1px 3px 1px rgba(0, 0, 0, 0.15);\n",
              "      filter: drop-shadow(0px 1px 2px rgba(0, 0, 0, 0.3));\n",
              "      fill: #FFFFFF;\n",
              "    }\n",
              "  </style>\n",
              "\n",
              "      <script>\n",
              "        const buttonEl =\n",
              "          document.querySelector('#df-1f78bb81-3439-4d4e-a2e2-a6025b46187d button.colab-df-convert');\n",
              "        buttonEl.style.display =\n",
              "          google.colab.kernel.accessAllowed ? 'block' : 'none';\n",
              "\n",
              "        async function convertToInteractive(key) {\n",
              "          const element = document.querySelector('#df-1f78bb81-3439-4d4e-a2e2-a6025b46187d');\n",
              "          const dataTable =\n",
              "            await google.colab.kernel.invokeFunction('convertToInteractive',\n",
              "                                                     [key], {});\n",
              "          if (!dataTable) return;\n",
              "\n",
              "          const docLinkHtml = 'Like what you see? Visit the ' +\n",
              "            '<a target=\"_blank\" href=https://colab.research.google.com/notebooks/data_table.ipynb>data table notebook</a>'\n",
              "            + ' to learn more about interactive tables.';\n",
              "          element.innerHTML = '';\n",
              "          dataTable['output_type'] = 'display_data';\n",
              "          await google.colab.output.renderOutput(dataTable, element);\n",
              "          const docLink = document.createElement('div');\n",
              "          docLink.innerHTML = docLinkHtml;\n",
              "          element.appendChild(docLink);\n",
              "        }\n",
              "      </script>\n",
              "    </div>\n",
              "  </div>\n",
              "  "
            ]
          },
          "metadata": {},
          "execution_count": 29
        }
      ]
    },
    {
      "cell_type": "code",
      "source": [
        "y_train"
      ],
      "metadata": {
        "colab": {
          "base_uri": "https://localhost:8080/",
          "height": 677
        },
        "id": "JVUjd8Utdyux",
        "outputId": "84d65175-9fd1-47b5-9752-49ae8a8aeda3"
      },
      "execution_count": null,
      "outputs": [
        {
          "output_type": "execute_result",
          "data": {
            "text/plain": [
              "   Construction type\n",
              "0          Apartment\n",
              "1              House\n",
              "2              Condo\n",
              "3          Apartment\n",
              "4          Apartment\n",
              "5              Condo\n",
              "6              Condo\n",
              "7              House\n",
              "8              Condo\n",
              "9          Apartment\n",
              "10             House\n",
              "11             House\n",
              "12             House\n",
              "13             Condo\n",
              "14         Apartment\n",
              "15             House\n",
              "16         Apartment\n",
              "17             House\n",
              "18             Condo\n",
              "19         Apartment"
            ],
            "text/html": [
              "\n",
              "  <div id=\"df-b65d4b1b-125b-405c-be00-24c8f107cb49\">\n",
              "    <div class=\"colab-df-container\">\n",
              "      <div>\n",
              "<style scoped>\n",
              "    .dataframe tbody tr th:only-of-type {\n",
              "        vertical-align: middle;\n",
              "    }\n",
              "\n",
              "    .dataframe tbody tr th {\n",
              "        vertical-align: top;\n",
              "    }\n",
              "\n",
              "    .dataframe thead th {\n",
              "        text-align: right;\n",
              "    }\n",
              "</style>\n",
              "<table border=\"1\" class=\"dataframe\">\n",
              "  <thead>\n",
              "    <tr style=\"text-align: right;\">\n",
              "      <th></th>\n",
              "      <th>Construction type</th>\n",
              "    </tr>\n",
              "  </thead>\n",
              "  <tbody>\n",
              "    <tr>\n",
              "      <th>0</th>\n",
              "      <td>Apartment</td>\n",
              "    </tr>\n",
              "    <tr>\n",
              "      <th>1</th>\n",
              "      <td>House</td>\n",
              "    </tr>\n",
              "    <tr>\n",
              "      <th>2</th>\n",
              "      <td>Condo</td>\n",
              "    </tr>\n",
              "    <tr>\n",
              "      <th>3</th>\n",
              "      <td>Apartment</td>\n",
              "    </tr>\n",
              "    <tr>\n",
              "      <th>4</th>\n",
              "      <td>Apartment</td>\n",
              "    </tr>\n",
              "    <tr>\n",
              "      <th>5</th>\n",
              "      <td>Condo</td>\n",
              "    </tr>\n",
              "    <tr>\n",
              "      <th>6</th>\n",
              "      <td>Condo</td>\n",
              "    </tr>\n",
              "    <tr>\n",
              "      <th>7</th>\n",
              "      <td>House</td>\n",
              "    </tr>\n",
              "    <tr>\n",
              "      <th>8</th>\n",
              "      <td>Condo</td>\n",
              "    </tr>\n",
              "    <tr>\n",
              "      <th>9</th>\n",
              "      <td>Apartment</td>\n",
              "    </tr>\n",
              "    <tr>\n",
              "      <th>10</th>\n",
              "      <td>House</td>\n",
              "    </tr>\n",
              "    <tr>\n",
              "      <th>11</th>\n",
              "      <td>House</td>\n",
              "    </tr>\n",
              "    <tr>\n",
              "      <th>12</th>\n",
              "      <td>House</td>\n",
              "    </tr>\n",
              "    <tr>\n",
              "      <th>13</th>\n",
              "      <td>Condo</td>\n",
              "    </tr>\n",
              "    <tr>\n",
              "      <th>14</th>\n",
              "      <td>Apartment</td>\n",
              "    </tr>\n",
              "    <tr>\n",
              "      <th>15</th>\n",
              "      <td>House</td>\n",
              "    </tr>\n",
              "    <tr>\n",
              "      <th>16</th>\n",
              "      <td>Apartment</td>\n",
              "    </tr>\n",
              "    <tr>\n",
              "      <th>17</th>\n",
              "      <td>House</td>\n",
              "    </tr>\n",
              "    <tr>\n",
              "      <th>18</th>\n",
              "      <td>Condo</td>\n",
              "    </tr>\n",
              "    <tr>\n",
              "      <th>19</th>\n",
              "      <td>Apartment</td>\n",
              "    </tr>\n",
              "  </tbody>\n",
              "</table>\n",
              "</div>\n",
              "      <button class=\"colab-df-convert\" onclick=\"convertToInteractive('df-b65d4b1b-125b-405c-be00-24c8f107cb49')\"\n",
              "              title=\"Convert this dataframe to an interactive table.\"\n",
              "              style=\"display:none;\">\n",
              "        \n",
              "  <svg xmlns=\"http://www.w3.org/2000/svg\" height=\"24px\"viewBox=\"0 0 24 24\"\n",
              "       width=\"24px\">\n",
              "    <path d=\"M0 0h24v24H0V0z\" fill=\"none\"/>\n",
              "    <path d=\"M18.56 5.44l.94 2.06.94-2.06 2.06-.94-2.06-.94-.94-2.06-.94 2.06-2.06.94zm-11 1L8.5 8.5l.94-2.06 2.06-.94-2.06-.94L8.5 2.5l-.94 2.06-2.06.94zm10 10l.94 2.06.94-2.06 2.06-.94-2.06-.94-.94-2.06-.94 2.06-2.06.94z\"/><path d=\"M17.41 7.96l-1.37-1.37c-.4-.4-.92-.59-1.43-.59-.52 0-1.04.2-1.43.59L10.3 9.45l-7.72 7.72c-.78.78-.78 2.05 0 2.83L4 21.41c.39.39.9.59 1.41.59.51 0 1.02-.2 1.41-.59l7.78-7.78 2.81-2.81c.8-.78.8-2.07 0-2.86zM5.41 20L4 18.59l7.72-7.72 1.47 1.35L5.41 20z\"/>\n",
              "  </svg>\n",
              "      </button>\n",
              "      \n",
              "  <style>\n",
              "    .colab-df-container {\n",
              "      display:flex;\n",
              "      flex-wrap:wrap;\n",
              "      gap: 12px;\n",
              "    }\n",
              "\n",
              "    .colab-df-convert {\n",
              "      background-color: #E8F0FE;\n",
              "      border: none;\n",
              "      border-radius: 50%;\n",
              "      cursor: pointer;\n",
              "      display: none;\n",
              "      fill: #1967D2;\n",
              "      height: 32px;\n",
              "      padding: 0 0 0 0;\n",
              "      width: 32px;\n",
              "    }\n",
              "\n",
              "    .colab-df-convert:hover {\n",
              "      background-color: #E2EBFA;\n",
              "      box-shadow: 0px 1px 2px rgba(60, 64, 67, 0.3), 0px 1px 3px 1px rgba(60, 64, 67, 0.15);\n",
              "      fill: #174EA6;\n",
              "    }\n",
              "\n",
              "    [theme=dark] .colab-df-convert {\n",
              "      background-color: #3B4455;\n",
              "      fill: #D2E3FC;\n",
              "    }\n",
              "\n",
              "    [theme=dark] .colab-df-convert:hover {\n",
              "      background-color: #434B5C;\n",
              "      box-shadow: 0px 1px 3px 1px rgba(0, 0, 0, 0.15);\n",
              "      filter: drop-shadow(0px 1px 2px rgba(0, 0, 0, 0.3));\n",
              "      fill: #FFFFFF;\n",
              "    }\n",
              "  </style>\n",
              "\n",
              "      <script>\n",
              "        const buttonEl =\n",
              "          document.querySelector('#df-b65d4b1b-125b-405c-be00-24c8f107cb49 button.colab-df-convert');\n",
              "        buttonEl.style.display =\n",
              "          google.colab.kernel.accessAllowed ? 'block' : 'none';\n",
              "\n",
              "        async function convertToInteractive(key) {\n",
              "          const element = document.querySelector('#df-b65d4b1b-125b-405c-be00-24c8f107cb49');\n",
              "          const dataTable =\n",
              "            await google.colab.kernel.invokeFunction('convertToInteractive',\n",
              "                                                     [key], {});\n",
              "          if (!dataTable) return;\n",
              "\n",
              "          const docLinkHtml = 'Like what you see? Visit the ' +\n",
              "            '<a target=\"_blank\" href=https://colab.research.google.com/notebooks/data_table.ipynb>data table notebook</a>'\n",
              "            + ' to learn more about interactive tables.';\n",
              "          element.innerHTML = '';\n",
              "          dataTable['output_type'] = 'display_data';\n",
              "          await google.colab.output.renderOutput(dataTable, element);\n",
              "          const docLink = document.createElement('div');\n",
              "          docLink.innerHTML = docLinkHtml;\n",
              "          element.appendChild(docLink);\n",
              "        }\n",
              "      </script>\n",
              "    </div>\n",
              "  </div>\n",
              "  "
            ]
          },
          "metadata": {},
          "execution_count": 89
        }
      ]
    },
    {
      "cell_type": "code",
      "source": [
        "y_test"
      ],
      "metadata": {
        "colab": {
          "base_uri": "https://localhost:8080/",
          "height": 206
        },
        "id": "k4abf06ud2-x",
        "outputId": "b95c3a81-bf2c-4564-d501-0caad9d1ef40"
      },
      "execution_count": null,
      "outputs": [
        {
          "output_type": "execute_result",
          "data": {
            "text/plain": [
              "  Construction type\n",
              "0         Apartment\n",
              "1             House\n",
              "2             House\n",
              "3         Apartment\n",
              "4         Apartment"
            ],
            "text/html": [
              "\n",
              "  <div id=\"df-ec80aa2a-e513-424f-a1bd-0c9cb3c521b3\">\n",
              "    <div class=\"colab-df-container\">\n",
              "      <div>\n",
              "<style scoped>\n",
              "    .dataframe tbody tr th:only-of-type {\n",
              "        vertical-align: middle;\n",
              "    }\n",
              "\n",
              "    .dataframe tbody tr th {\n",
              "        vertical-align: top;\n",
              "    }\n",
              "\n",
              "    .dataframe thead th {\n",
              "        text-align: right;\n",
              "    }\n",
              "</style>\n",
              "<table border=\"1\" class=\"dataframe\">\n",
              "  <thead>\n",
              "    <tr style=\"text-align: right;\">\n",
              "      <th></th>\n",
              "      <th>Construction type</th>\n",
              "    </tr>\n",
              "  </thead>\n",
              "  <tbody>\n",
              "    <tr>\n",
              "      <th>0</th>\n",
              "      <td>Apartment</td>\n",
              "    </tr>\n",
              "    <tr>\n",
              "      <th>1</th>\n",
              "      <td>House</td>\n",
              "    </tr>\n",
              "    <tr>\n",
              "      <th>2</th>\n",
              "      <td>House</td>\n",
              "    </tr>\n",
              "    <tr>\n",
              "      <th>3</th>\n",
              "      <td>Apartment</td>\n",
              "    </tr>\n",
              "    <tr>\n",
              "      <th>4</th>\n",
              "      <td>Apartment</td>\n",
              "    </tr>\n",
              "  </tbody>\n",
              "</table>\n",
              "</div>\n",
              "      <button class=\"colab-df-convert\" onclick=\"convertToInteractive('df-ec80aa2a-e513-424f-a1bd-0c9cb3c521b3')\"\n",
              "              title=\"Convert this dataframe to an interactive table.\"\n",
              "              style=\"display:none;\">\n",
              "        \n",
              "  <svg xmlns=\"http://www.w3.org/2000/svg\" height=\"24px\"viewBox=\"0 0 24 24\"\n",
              "       width=\"24px\">\n",
              "    <path d=\"M0 0h24v24H0V0z\" fill=\"none\"/>\n",
              "    <path d=\"M18.56 5.44l.94 2.06.94-2.06 2.06-.94-2.06-.94-.94-2.06-.94 2.06-2.06.94zm-11 1L8.5 8.5l.94-2.06 2.06-.94-2.06-.94L8.5 2.5l-.94 2.06-2.06.94zm10 10l.94 2.06.94-2.06 2.06-.94-2.06-.94-.94-2.06-.94 2.06-2.06.94z\"/><path d=\"M17.41 7.96l-1.37-1.37c-.4-.4-.92-.59-1.43-.59-.52 0-1.04.2-1.43.59L10.3 9.45l-7.72 7.72c-.78.78-.78 2.05 0 2.83L4 21.41c.39.39.9.59 1.41.59.51 0 1.02-.2 1.41-.59l7.78-7.78 2.81-2.81c.8-.78.8-2.07 0-2.86zM5.41 20L4 18.59l7.72-7.72 1.47 1.35L5.41 20z\"/>\n",
              "  </svg>\n",
              "      </button>\n",
              "      \n",
              "  <style>\n",
              "    .colab-df-container {\n",
              "      display:flex;\n",
              "      flex-wrap:wrap;\n",
              "      gap: 12px;\n",
              "    }\n",
              "\n",
              "    .colab-df-convert {\n",
              "      background-color: #E8F0FE;\n",
              "      border: none;\n",
              "      border-radius: 50%;\n",
              "      cursor: pointer;\n",
              "      display: none;\n",
              "      fill: #1967D2;\n",
              "      height: 32px;\n",
              "      padding: 0 0 0 0;\n",
              "      width: 32px;\n",
              "    }\n",
              "\n",
              "    .colab-df-convert:hover {\n",
              "      background-color: #E2EBFA;\n",
              "      box-shadow: 0px 1px 2px rgba(60, 64, 67, 0.3), 0px 1px 3px 1px rgba(60, 64, 67, 0.15);\n",
              "      fill: #174EA6;\n",
              "    }\n",
              "\n",
              "    [theme=dark] .colab-df-convert {\n",
              "      background-color: #3B4455;\n",
              "      fill: #D2E3FC;\n",
              "    }\n",
              "\n",
              "    [theme=dark] .colab-df-convert:hover {\n",
              "      background-color: #434B5C;\n",
              "      box-shadow: 0px 1px 3px 1px rgba(0, 0, 0, 0.15);\n",
              "      filter: drop-shadow(0px 1px 2px rgba(0, 0, 0, 0.3));\n",
              "      fill: #FFFFFF;\n",
              "    }\n",
              "  </style>\n",
              "\n",
              "      <script>\n",
              "        const buttonEl =\n",
              "          document.querySelector('#df-ec80aa2a-e513-424f-a1bd-0c9cb3c521b3 button.colab-df-convert');\n",
              "        buttonEl.style.display =\n",
              "          google.colab.kernel.accessAllowed ? 'block' : 'none';\n",
              "\n",
              "        async function convertToInteractive(key) {\n",
              "          const element = document.querySelector('#df-ec80aa2a-e513-424f-a1bd-0c9cb3c521b3');\n",
              "          const dataTable =\n",
              "            await google.colab.kernel.invokeFunction('convertToInteractive',\n",
              "                                                     [key], {});\n",
              "          if (!dataTable) return;\n",
              "\n",
              "          const docLinkHtml = 'Like what you see? Visit the ' +\n",
              "            '<a target=\"_blank\" href=https://colab.research.google.com/notebooks/data_table.ipynb>data table notebook</a>'\n",
              "            + ' to learn more about interactive tables.';\n",
              "          element.innerHTML = '';\n",
              "          dataTable['output_type'] = 'display_data';\n",
              "          await google.colab.output.renderOutput(dataTable, element);\n",
              "          const docLink = document.createElement('div');\n",
              "          docLink.innerHTML = docLinkHtml;\n",
              "          element.appendChild(docLink);\n",
              "        }\n",
              "      </script>\n",
              "    </div>\n",
              "  </div>\n",
              "  "
            ]
          },
          "metadata": {},
          "execution_count": 33
        }
      ]
    },
    {
      "cell_type": "code",
      "source": [
        "X_test"
      ],
      "metadata": {
        "colab": {
          "base_uri": "https://localhost:8080/",
          "height": 206
        },
        "id": "jT8esuSYd02R",
        "outputId": "140374a0-107a-48e0-911b-b893828c6e7f"
      },
      "execution_count": null,
      "outputs": [
        {
          "output_type": "execute_result",
          "data": {
            "text/plain": [
              "   Local Price  Bathrooms  Land Area  Living area  # Garages  # Rooms  \\\n",
              "0       6.0931        1.5     6.7265        1.652        1.0        6   \n",
              "1       8.3607        1.5     9.1500        1.777        2.0        8   \n",
              "2       8.1400        1.0     8.0000        1.504        2.0        7   \n",
              "3       9.1416        1.5     7.3262        1.831        1.5        8   \n",
              "4      12.0000        1.5     5.0000        1.200        2.0        6   \n",
              "\n",
              "   # Bedrooms  Age of home  \n",
              "0           3           44  \n",
              "1           4           48  \n",
              "2           3            3  \n",
              "3           4           31  \n",
              "4           3           30  "
            ],
            "text/html": [
              "\n",
              "  <div id=\"df-853cb131-a9bf-4df0-b5c4-415a31a17fc1\">\n",
              "    <div class=\"colab-df-container\">\n",
              "      <div>\n",
              "<style scoped>\n",
              "    .dataframe tbody tr th:only-of-type {\n",
              "        vertical-align: middle;\n",
              "    }\n",
              "\n",
              "    .dataframe tbody tr th {\n",
              "        vertical-align: top;\n",
              "    }\n",
              "\n",
              "    .dataframe thead th {\n",
              "        text-align: right;\n",
              "    }\n",
              "</style>\n",
              "<table border=\"1\" class=\"dataframe\">\n",
              "  <thead>\n",
              "    <tr style=\"text-align: right;\">\n",
              "      <th></th>\n",
              "      <th>Local Price</th>\n",
              "      <th>Bathrooms</th>\n",
              "      <th>Land Area</th>\n",
              "      <th>Living area</th>\n",
              "      <th># Garages</th>\n",
              "      <th># Rooms</th>\n",
              "      <th># Bedrooms</th>\n",
              "      <th>Age of home</th>\n",
              "    </tr>\n",
              "  </thead>\n",
              "  <tbody>\n",
              "    <tr>\n",
              "      <th>0</th>\n",
              "      <td>6.0931</td>\n",
              "      <td>1.5</td>\n",
              "      <td>6.7265</td>\n",
              "      <td>1.652</td>\n",
              "      <td>1.0</td>\n",
              "      <td>6</td>\n",
              "      <td>3</td>\n",
              "      <td>44</td>\n",
              "    </tr>\n",
              "    <tr>\n",
              "      <th>1</th>\n",
              "      <td>8.3607</td>\n",
              "      <td>1.5</td>\n",
              "      <td>9.1500</td>\n",
              "      <td>1.777</td>\n",
              "      <td>2.0</td>\n",
              "      <td>8</td>\n",
              "      <td>4</td>\n",
              "      <td>48</td>\n",
              "    </tr>\n",
              "    <tr>\n",
              "      <th>2</th>\n",
              "      <td>8.1400</td>\n",
              "      <td>1.0</td>\n",
              "      <td>8.0000</td>\n",
              "      <td>1.504</td>\n",
              "      <td>2.0</td>\n",
              "      <td>7</td>\n",
              "      <td>3</td>\n",
              "      <td>3</td>\n",
              "    </tr>\n",
              "    <tr>\n",
              "      <th>3</th>\n",
              "      <td>9.1416</td>\n",
              "      <td>1.5</td>\n",
              "      <td>7.3262</td>\n",
              "      <td>1.831</td>\n",
              "      <td>1.5</td>\n",
              "      <td>8</td>\n",
              "      <td>4</td>\n",
              "      <td>31</td>\n",
              "    </tr>\n",
              "    <tr>\n",
              "      <th>4</th>\n",
              "      <td>12.0000</td>\n",
              "      <td>1.5</td>\n",
              "      <td>5.0000</td>\n",
              "      <td>1.200</td>\n",
              "      <td>2.0</td>\n",
              "      <td>6</td>\n",
              "      <td>3</td>\n",
              "      <td>30</td>\n",
              "    </tr>\n",
              "  </tbody>\n",
              "</table>\n",
              "</div>\n",
              "      <button class=\"colab-df-convert\" onclick=\"convertToInteractive('df-853cb131-a9bf-4df0-b5c4-415a31a17fc1')\"\n",
              "              title=\"Convert this dataframe to an interactive table.\"\n",
              "              style=\"display:none;\">\n",
              "        \n",
              "  <svg xmlns=\"http://www.w3.org/2000/svg\" height=\"24px\"viewBox=\"0 0 24 24\"\n",
              "       width=\"24px\">\n",
              "    <path d=\"M0 0h24v24H0V0z\" fill=\"none\"/>\n",
              "    <path d=\"M18.56 5.44l.94 2.06.94-2.06 2.06-.94-2.06-.94-.94-2.06-.94 2.06-2.06.94zm-11 1L8.5 8.5l.94-2.06 2.06-.94-2.06-.94L8.5 2.5l-.94 2.06-2.06.94zm10 10l.94 2.06.94-2.06 2.06-.94-2.06-.94-.94-2.06-.94 2.06-2.06.94z\"/><path d=\"M17.41 7.96l-1.37-1.37c-.4-.4-.92-.59-1.43-.59-.52 0-1.04.2-1.43.59L10.3 9.45l-7.72 7.72c-.78.78-.78 2.05 0 2.83L4 21.41c.39.39.9.59 1.41.59.51 0 1.02-.2 1.41-.59l7.78-7.78 2.81-2.81c.8-.78.8-2.07 0-2.86zM5.41 20L4 18.59l7.72-7.72 1.47 1.35L5.41 20z\"/>\n",
              "  </svg>\n",
              "      </button>\n",
              "      \n",
              "  <style>\n",
              "    .colab-df-container {\n",
              "      display:flex;\n",
              "      flex-wrap:wrap;\n",
              "      gap: 12px;\n",
              "    }\n",
              "\n",
              "    .colab-df-convert {\n",
              "      background-color: #E8F0FE;\n",
              "      border: none;\n",
              "      border-radius: 50%;\n",
              "      cursor: pointer;\n",
              "      display: none;\n",
              "      fill: #1967D2;\n",
              "      height: 32px;\n",
              "      padding: 0 0 0 0;\n",
              "      width: 32px;\n",
              "    }\n",
              "\n",
              "    .colab-df-convert:hover {\n",
              "      background-color: #E2EBFA;\n",
              "      box-shadow: 0px 1px 2px rgba(60, 64, 67, 0.3), 0px 1px 3px 1px rgba(60, 64, 67, 0.15);\n",
              "      fill: #174EA6;\n",
              "    }\n",
              "\n",
              "    [theme=dark] .colab-df-convert {\n",
              "      background-color: #3B4455;\n",
              "      fill: #D2E3FC;\n",
              "    }\n",
              "\n",
              "    [theme=dark] .colab-df-convert:hover {\n",
              "      background-color: #434B5C;\n",
              "      box-shadow: 0px 1px 3px 1px rgba(0, 0, 0, 0.15);\n",
              "      filter: drop-shadow(0px 1px 2px rgba(0, 0, 0, 0.3));\n",
              "      fill: #FFFFFF;\n",
              "    }\n",
              "  </style>\n",
              "\n",
              "      <script>\n",
              "        const buttonEl =\n",
              "          document.querySelector('#df-853cb131-a9bf-4df0-b5c4-415a31a17fc1 button.colab-df-convert');\n",
              "        buttonEl.style.display =\n",
              "          google.colab.kernel.accessAllowed ? 'block' : 'none';\n",
              "\n",
              "        async function convertToInteractive(key) {\n",
              "          const element = document.querySelector('#df-853cb131-a9bf-4df0-b5c4-415a31a17fc1');\n",
              "          const dataTable =\n",
              "            await google.colab.kernel.invokeFunction('convertToInteractive',\n",
              "                                                     [key], {});\n",
              "          if (!dataTable) return;\n",
              "\n",
              "          const docLinkHtml = 'Like what you see? Visit the ' +\n",
              "            '<a target=\"_blank\" href=https://colab.research.google.com/notebooks/data_table.ipynb>data table notebook</a>'\n",
              "            + ' to learn more about interactive tables.';\n",
              "          element.innerHTML = '';\n",
              "          dataTable['output_type'] = 'display_data';\n",
              "          await google.colab.output.renderOutput(dataTable, element);\n",
              "          const docLink = document.createElement('div');\n",
              "          docLink.innerHTML = docLinkHtml;\n",
              "          element.appendChild(docLink);\n",
              "        }\n",
              "      </script>\n",
              "    </div>\n",
              "  </div>\n",
              "  "
            ]
          },
          "metadata": {},
          "execution_count": 31
        }
      ]
    },
    {
      "cell_type": "markdown",
      "source": [
        "### Question 1\n",
        "Maximum A Posteriori (MAP) probability rule: Choose the class with the highest probability for a test sample as its classification"
      ],
      "metadata": {
        "id": "1svwFSxiX0jz"
      }
    },
    {
      "cell_type": "code",
      "source": [
        "# First vector\n",
        "prob_apart_first = 0.1040 * (1/7) * 0.1202 * 0.5543 * (3/7) * (2/7) * (3/7) * 0.0254\n",
        "prob_house_first = 0.5899 * (1/7) * 0.1772 * 0.8839 * (2/7) * (4/7) * (5/7) * 0.0234\n",
        "prob_condo_first = 0.0830 * (1/6) * 0.1509 * 0.4295 * (4/6) * (4/6) * (5/6) * 0.0272\n",
        "print(\"Apartment probability for first test sample\", prob_apart_first)\n",
        "print(\"House probability for first test sample\", prob_house_first)\n",
        "print(\"Condo probability for first test sample\", prob_condo_first)\n",
        "\n",
        "if (prob_apart_first > prob_house_first and prob_apart_first > prob_condo_first):\n",
        "  print(\"Classification: Apartment\")\n",
        "elif prob_house_first > prob_condo_first:\n",
        "  print(\"Classification: House\")\n",
        "else:\n",
        "  print(\"Classification: Condo\")\n"
      ],
      "metadata": {
        "colab": {
          "base_uri": "https://localhost:8080/"
        },
        "id": "AomzcFcUzaMs",
        "outputId": "536ad8f3-c389-46bb-b746-066f1ff5e257"
      },
      "execution_count": null,
      "outputs": [
        {
          "output_type": "stream",
          "name": "stdout",
          "text": [
            "Apartment probability for first test sample 1.3194615746638898e-06\n",
            "House probability for first test sample 3.6018774829034565e-05\n",
            "Condo probability for first test sample 9.032009585185184e-06\n",
            "Classification: House\n"
          ]
        }
      ]
    },
    {
      "cell_type": "markdown",
      "source": [
        "#### First test sample classification according to MAP: House"
      ],
      "metadata": {
        "id": "SSY4uc6VHEfT"
      }
    },
    {
      "cell_type": "code",
      "source": [
        "# Second vector\n",
        "prob_apart_sec = 0.1059 * (1/7) * 0.0790 * 0.5258 * (2/7) * (2/7) * (3/7) * 0.0222\n",
        "prob_house_sec = 0 * (1/7) * 0.1772 * 0.8839 * (2/7) * (4/7) * (5/7) * 0.0234\n",
        "prob_condo_sec = 0.0847 * 0 * 0.1509 * 0.4295 * (4/6) * (4/6) * (5/6) * 0.0272\n",
        "print(\"Apartment probability for first test sample\", prob_apart_sec)\n",
        "print(\"House probability for first test sample\", prob_house_sec)\n",
        "print(\"Condo probability for first test sample\", prob_condo_sec)\n",
        "\n",
        "if (prob_apart_sec > prob_house_sec and prob_apart_sec > prob_condo_sec):\n",
        "  print(\"Classification: Apartment\")\n",
        "elif prob_house_sec > prob_condo_sec:\n",
        "  print(\"Classification: House\")\n",
        "else:\n",
        "  print(\"Classification: Condo\")"
      ],
      "metadata": {
        "colab": {
          "base_uri": "https://localhost:8080/"
        },
        "id": "i2tWOO-L-Isw",
        "outputId": "adc55648-dddc-4b71-b612-44eaef4f62fa"
      },
      "execution_count": null,
      "outputs": [
        {
          "output_type": "stream",
          "name": "stdout",
          "text": [
            "Apartment probability for first test sample 4.880740230037484e-07\n",
            "House probability for first test sample 0.0\n",
            "Condo probability for first test sample 0.0\n",
            "Classification: Apartment\n"
          ]
        }
      ]
    },
    {
      "cell_type": "markdown",
      "source": [
        "#### Second test sample classification according to MAP: Apartment"
      ],
      "metadata": {
        "id": "Zb5R2LOdHLLH"
      }
    },
    {
      "cell_type": "code",
      "source": [
        "# Third vector\n",
        "prob_apart_thir = 0.1076 * (5/7) * 0.1033 * 0.5665 * (2/7) * (2/7) * (3/7) * 0.0014\n",
        "prob_house_thir = 0\n",
        "prob_condo_thir = 0.0854 * (4/6) * 0.1159 * 0.4314 * (2/6) * (1/6) * (5/6) * 0.0009\n",
        "print(\"Apartment probability for first test sample\", prob_apart_thir)\n",
        "print(\"House probability for first test sample\", prob_house_thir)\n",
        "print(\"Condo probability for first test sample\", prob_condo_thir)\n",
        "\n",
        "if (prob_apart_thir > prob_house_thir and prob_apart_thir > prob_condo_thir):\n",
        "  print(\"Classification: Apartment\")\n",
        "elif prob_house_thir > prob_condo_thir:\n",
        "  print(\"Classification: House\")\n",
        "else:\n",
        "  print(\"Classification: Condo\")"
      ],
      "metadata": {
        "colab": {
          "base_uri": "https://localhost:8080/"
        },
        "id": "fMNFGEt_-JQf",
        "outputId": "4d568df1-4f66-4e7e-95e7-ad19efe0ad00"
      },
      "execution_count": null,
      "outputs": [
        {
          "output_type": "stream",
          "name": "stdout",
          "text": [
            "Apartment probability for first test sample 2.2029246017492705e-07\n",
            "House probability for first test sample 0\n",
            "Condo probability for first test sample 1.186093556666667e-07\n",
            "Classification: Apartment\n"
          ]
        }
      ]
    },
    {
      "cell_type": "markdown",
      "source": [
        "#### Third test sample classification according to MAP: Apartment"
      ],
      "metadata": {
        "id": "JEbANMN_HVOW"
      }
    },
    {
      "cell_type": "code",
      "source": [
        "# Fourth vector\n",
        "prob_apart_four = 0.1040 * (1/7) * 0.1202 * 0.5543 * (3/7) * (2/7) * (3/7) * 0.0254\n",
        "prob_house_four = 0\n",
        "prob_condo_four = 0\n",
        "print(\"Apartment probability for first test sample\", prob_apart_four)\n",
        "print(\"House probability for first test sample\", prob_house_four)\n",
        "print(\"Condo probability for first test sample\", prob_condo_four)\n",
        "\n",
        "if (prob_apart_four > prob_house_four and prob_apart_four > prob_condo_four):\n",
        "  print(\"Classification: Apartment\")\n",
        "elif prob_house_four > prob_condo_four:\n",
        "  print(\"Classification: House\")\n",
        "else:\n",
        "  print(\"Classification: Condo\")"
      ],
      "metadata": {
        "colab": {
          "base_uri": "https://localhost:8080/"
        },
        "id": "PU3_U54Z-Jnu",
        "outputId": "a11e22aa-83ca-4b7b-f454-63a844729639"
      },
      "execution_count": null,
      "outputs": [
        {
          "output_type": "stream",
          "name": "stdout",
          "text": [
            "Apartment probability for first test sample 1.3194615746638898e-06\n",
            "House probability for first test sample 0\n",
            "Condo probability for first test sample 0\n",
            "Classification: Apartment\n"
          ]
        }
      ]
    },
    {
      "cell_type": "markdown",
      "source": [
        "#### Fourth test sample classification according to MAP: Apartment"
      ],
      "metadata": {
        "id": "LA3-sMlZHkTI"
      }
    },
    {
      "cell_type": "code",
      "source": [
        "# Fifth vector\n",
        "prob_apart_five = 0.0479 * (1/7) * 0.1156 * 0.5158 * (2/7) * (2/7) * (3/7) * 0.0227\n",
        "prob_house_five = 0\n",
        "prob_condo_five = 0.0527 * (1/6) * 0.1445 * 0.4015 * (2/6) * (4/6) * (5/6) * 0.0224\n",
        "print(\"Apartment probability for first test sample\", prob_apart_five)\n",
        "print(\"House probability for first test sample\", prob_house_five)\n",
        "print(\"Condo probability for first test sample\", prob_condo_five)\n",
        "\n",
        "if (prob_apart_five > prob_house_five and prob_apart_five > prob_condo_five):\n",
        "  print(\"Classification: Apartment\")\n",
        "elif prob_house_five > prob_condo_five:\n",
        "  print(\"Classification: House\")\n",
        "else:\n",
        "  print(\"Classification: Condo\")"
      ],
      "metadata": {
        "colab": {
          "base_uri": "https://localhost:8080/"
        },
        "id": "SMb-mWHU-KKE",
        "outputId": "10166611-4063-44ce-ebb1-5030502ccea4"
      },
      "execution_count": null,
      "outputs": [
        {
          "output_type": "stream",
          "name": "stdout",
          "text": [
            "Apartment probability for first test sample 3.2403328862174086e-07\n",
            "House probability for first test sample 0\n",
            "Condo probability for first test sample 2.11381521728395e-06\n",
            "Classification: Condo\n"
          ]
        }
      ]
    },
    {
      "cell_type": "markdown",
      "source": [
        "#### Fifth test sample classification according to MAP: Condo"
      ],
      "metadata": {
        "id": "bYx5AQwSHpCw"
      }
    },
    {
      "cell_type": "code",
      "source": [
        "# Checking with scikit learn Naive Bayes\n",
        "from sklearn.naive_bayes import GaussianNB"
      ],
      "metadata": {
        "id": "mdXZzWSpHyXN"
      },
      "execution_count": null,
      "outputs": []
    },
    {
      "cell_type": "code",
      "source": [
        "gaussnb = GaussianNB()\n",
        "gaussnb.fit(X_train,y_train)\n",
        "gaussnb_pred = gaussnb.predict(X_test)"
      ],
      "metadata": {
        "id": "wXc921tgIsBo"
      },
      "execution_count": null,
      "outputs": []
    },
    {
      "cell_type": "code",
      "source": [
        "gaussnb_pred"
      ],
      "metadata": {
        "colab": {
          "base_uri": "https://localhost:8080/"
        },
        "id": "VS7JllAyJEjP",
        "outputId": "8c1e05ae-31f2-4866-9a71-cd3286e78230"
      },
      "execution_count": null,
      "outputs": [
        {
          "output_type": "execute_result",
          "data": {
            "text/plain": [
              "array(['House', 'Apartment', 'Apartment', 'Apartment', 'Condo'],\n",
              "      dtype='<U9')"
            ]
          },
          "metadata": {},
          "execution_count": 29
        }
      ]
    },
    {
      "cell_type": "markdown",
      "source": [
        "The scikit learn output exaclty matches the output of Naive Bayes from scratch implementation above."
      ],
      "metadata": {
        "id": "-boEHtBAJPeF"
      }
    },
    {
      "cell_type": "markdown",
      "source": [
        "### Question 2"
      ],
      "metadata": {
        "id": "RS-UxbBpZvhk"
      }
    },
    {
      "cell_type": "code",
      "source": [
        "pip install pydotplus"
      ],
      "metadata": {
        "colab": {
          "base_uri": "https://localhost:8080/"
        },
        "id": "TP-UnTRJlH-f",
        "outputId": "bdfeb162-e4f0-4a3e-bda0-d2a8bc59aceb"
      },
      "execution_count": null,
      "outputs": [
        {
          "output_type": "stream",
          "name": "stdout",
          "text": [
            "Looking in indexes: https://pypi.org/simple, https://us-python.pkg.dev/colab-wheels/public/simple/\n",
            "Requirement already satisfied: pydotplus in /usr/local/lib/python3.7/dist-packages (2.0.2)\n",
            "Requirement already satisfied: pyparsing>=2.0.1 in /usr/local/lib/python3.7/dist-packages (from pydotplus) (3.0.9)\n"
          ]
        }
      ]
    },
    {
      "cell_type": "code",
      "source": [
        "from sklearn.tree import DecisionTreeClassifier\n",
        "from sklearn import metrics\n",
        "from sklearn.tree import export_graphviz\n",
        "#from sklearn.externals.six import StringIO\n",
        "from IPython.display import Image\n",
        "import pydotplus"
      ],
      "metadata": {
        "id": "l0hNMbM9ZzH0"
      },
      "execution_count": null,
      "outputs": []
    },
    {
      "cell_type": "code",
      "source": [
        "dec_tree = DecisionTreeClassifier()\n",
        "\n",
        "dec_tree = dec_tree.fit(X_train,y_train)\n",
        "\n",
        "y_pred_train = dec_tree.predict(X_train)\n",
        "\n",
        "y_pred_test = dec_tree.predict(X_test)"
      ],
      "metadata": {
        "id": "me3qnx12d5GB"
      },
      "execution_count": null,
      "outputs": []
    },
    {
      "cell_type": "markdown",
      "source": [
        "####2.1.a"
      ],
      "metadata": {
        "id": "FL9_MfVbfdp1"
      }
    },
    {
      "cell_type": "code",
      "source": [
        "print(\"Training set accuracy\", metrics.accuracy_score(y_train, y_pred_train))"
      ],
      "metadata": {
        "colab": {
          "base_uri": "https://localhost:8080/"
        },
        "id": "NeYutkEpeydC",
        "outputId": "f50c4ca6-8ac5-43e9-ffc8-10f979399275"
      },
      "execution_count": null,
      "outputs": [
        {
          "output_type": "stream",
          "name": "stdout",
          "text": [
            "Training set accuracy 1.0\n"
          ]
        }
      ]
    },
    {
      "cell_type": "markdown",
      "source": [
        "####2.1.b"
      ],
      "metadata": {
        "id": "349oEOGNfmp-"
      }
    },
    {
      "cell_type": "code",
      "source": [
        "print(\"Test set accuracy\", metrics.accuracy_score(y_test, y_pred_test))"
      ],
      "metadata": {
        "colab": {
          "base_uri": "https://localhost:8080/"
        },
        "id": "77XINN5dfNbS",
        "outputId": "86cf66dc-66d6-41d9-f271-ff0aa09b5779"
      },
      "execution_count": null,
      "outputs": [
        {
          "output_type": "stream",
          "name": "stdout",
          "text": [
            "Test set accuracy 0.4\n"
          ]
        }
      ]
    },
    {
      "cell_type": "markdown",
      "source": [
        "####2.2"
      ],
      "metadata": {
        "id": "qj0AU8hwiXNI"
      }
    },
    {
      "cell_type": "code",
      "source": [
        "for i in range(1,7):\n",
        "  dec_tree = DecisionTreeClassifier(criterion=\"entropy\", max_depth=i)\n",
        "\n",
        "  dec_tree = dec_tree.fit(X_train,y_train)\n",
        "\n",
        "  y_pred_train = dec_tree.predict(X_train)\n",
        "\n",
        "  y_pred_test = dec_tree.predict(X_test)\n",
        "  print(\"Depth:\", i , \"Test set accuracy\", metrics.accuracy_score(y_test, y_pred_test))"
      ],
      "metadata": {
        "colab": {
          "base_uri": "https://localhost:8080/"
        },
        "id": "_-lBbysyf3wP",
        "outputId": "10b4c3db-5648-44d5-f82c-5dba5adfb212"
      },
      "execution_count": null,
      "outputs": [
        {
          "output_type": "stream",
          "name": "stdout",
          "text": [
            "Depth: 1 Test set accuracy 0.4\n",
            "Depth: 2 Test set accuracy 0.8\n",
            "Depth: 3 Test set accuracy 0.6\n",
            "Depth: 4 Test set accuracy 0.6\n",
            "Depth: 5 Test set accuracy 0.6\n",
            "Depth: 6 Test set accuracy 0.6\n"
          ]
        }
      ]
    },
    {
      "cell_type": "markdown",
      "source": [
        "#### The accuracies fluctuate when the max_depth variable is changed. The best value is a depth of 2."
      ],
      "metadata": {
        "id": "4GuK3lvgoWRN"
      }
    },
    {
      "cell_type": "markdown",
      "source": [
        "####2.3 As the depth increases, the model becomes more flexible capturing the subtle details. But if the depth is increased a lot, it starts overfitting and reduce the test accuracy. If the depth is too low also, then the model is not compatible well to the training data, decreasing the test accuracy. So a middle ground needs to be found between high and low depth."
      ],
      "metadata": {
        "id": "nOdDk5ivj6TS"
      }
    },
    {
      "cell_type": "markdown",
      "source": [
        "####2.4"
      ],
      "metadata": {
        "id": "XFoMtGpClOZQ"
      }
    },
    {
      "cell_type": "code",
      "source": [
        "from IPython.core.formatters import StringIO\n",
        "dot_data = StringIO()\n",
        "export_graphviz(dec_tree,out_file=dot_data,filled=True, rounded = True, feature_names=features, class_names=[\"Apartment\", \"House\", \"Condo\"])\n",
        "output = pydotplus.graph_from_dot_data(dot_data.getvalue())\n",
        "Image(output.create_png())"
      ],
      "metadata": {
        "colab": {
          "base_uri": "https://localhost:8080/",
          "height": 436
        },
        "id": "U7tZBXAkjQNu",
        "outputId": "9f37594e-8cf0-4f62-e0d3-3ae37d6963b6"
      },
      "execution_count": null,
      "outputs": [
        {
          "output_type": "execute_result",
          "data": {
            "image/png": "[encoded data removed]",
            "text/plain": [
              "<IPython.core.display.Image object>"
            ]
          },
          "metadata": {},
          "execution_count": 73
        }
      ]
    },
    {
      "cell_type": "markdown",
      "source": [
        "#### Manual classification: Age of home: True -> Local Price: False -> Apartment (classificaton)"
      ],
      "metadata": {
        "id": "LX6w4v1Znisz"
      }
    },
    {
      "cell_type": "markdown",
      "source": [
        "###Question 3: k-nearest neighbor algorithm"
      ],
      "metadata": {
        "id": "kTyJrU6ZrBB3"
      }
    },
    {
      "cell_type": "code",
      "source": [
        "import numpy as np\n",
        "from scipy.stats import mode"
      ],
      "metadata": {
        "id": "cdNY6D-vFe3f"
      },
      "execution_count": null,
      "outputs": []
    },
    {
      "cell_type": "code",
      "source": [
        "X_train = X_train.to_numpy()\n",
        "X_test = X_test.to_numpy()\n",
        "y_train = y_train.to_numpy()\n",
        "y_test = y_test.to_numpy()"
      ],
      "metadata": {
        "id": "s9foPGczRVNJ"
      },
      "execution_count": null,
      "outputs": []
    },
    {
      "cell_type": "code",
      "source": [
        "def eucl(q1,q2):\n",
        "  return np.sqrt((np.sum((q1 -q2) ** 2)))"
      ],
      "metadata": {
        "id": "v_2vKuOdFf8I"
      },
      "execution_count": null,
      "outputs": []
    },
    {
      "cell_type": "code",
      "source": [
        "def eucl_elaborate(x_train_row, x_test_row):\n",
        "  dist = 0.0\n",
        "  for i in range(len(x_train_row)):\n",
        "    dist += (x_train_row[i] - x_test_row[i])**2\n",
        "  dist = np.sqrt(dist)\n",
        "  return dist"
      ],
      "metadata": {
        "id": "y3SkjElFIcW6"
      },
      "execution_count": null,
      "outputs": []
    },
    {
      "cell_type": "code",
      "source": [
        "y_train"
      ],
      "metadata": {
        "colab": {
          "base_uri": "https://localhost:8080/"
        },
        "id": "TDhuLVrvbIit",
        "outputId": "1f1e9943-c920-471a-f542-a3056844e9f1"
      },
      "execution_count": null,
      "outputs": [
        {
          "output_type": "execute_result",
          "data": {
            "text/plain": [
              "array([['Apartment'],\n",
              "       ['House'],\n",
              "       ['Condo'],\n",
              "       ['Apartment'],\n",
              "       ['Apartment'],\n",
              "       ['Condo'],\n",
              "       ['Condo'],\n",
              "       ['House'],\n",
              "       ['Condo'],\n",
              "       ['Apartment'],\n",
              "       ['House'],\n",
              "       ['House'],\n",
              "       ['House'],\n",
              "       ['Condo'],\n",
              "       ['Apartment'],\n",
              "       ['House'],\n",
              "       ['Apartment'],\n",
              "       ['House'],\n",
              "       ['Condo'],\n",
              "       ['Apartment']], dtype=object)"
            ]
          },
          "metadata": {},
          "execution_count": 86
        }
      ]
    },
    {
      "cell_type": "code",
      "source": [
        "def kalgo(x_train, x_test, k):\n",
        "  predict = []\n",
        "  for i in range(len(x_test)): # Going through the test set\n",
        "    distance = []\n",
        "\n",
        "    for row in x_train:\n",
        "      dist = eucl_elaborate(row, x_test[i])\n",
        "      distance.append(dist)\n",
        "\n",
        "    neighbors = np.array(distance).argsort()[:k]\n",
        "    print(neighbors)\n",
        "\n",
        "    neighbors_count = {}\n",
        "    for i in neighbors:\n",
        "      #print(i)\n",
        "      if y_train[i] in neighbors_count:\n",
        "        neighbors_count[y_train[i]] += 1\n",
        "      else:\n",
        "        neighbors_count[y_train[i]] = 1\n",
        "\n",
        "    print(neighbors_count)\n",
        "\n",
        "    # Majority voting\n",
        "    predict.append(max(neighbors_count, key = neighbors_count.get))\n",
        "\n",
        "  return predict"
      ],
      "metadata": {
        "id": "7yJTbQIdGCpy"
      },
      "execution_count": null,
      "outputs": []
    },
    {
      "cell_type": "code",
      "source": [
        "y_train = y_train[:,0]"
      ],
      "metadata": {
        "id": "GivFkkATeAV4"
      },
      "execution_count": null,
      "outputs": []
    },
    {
      "cell_type": "code",
      "source": [
        "y_train"
      ],
      "metadata": {
        "colab": {
          "base_uri": "https://localhost:8080/"
        },
        "id": "9cmpkqhReGFg",
        "outputId": "e3d5f8bc-28d6-4fa9-8270-6e50113b20f2"
      },
      "execution_count": null,
      "outputs": [
        {
          "output_type": "execute_result",
          "data": {
            "text/plain": [
              "array(['Apartment', 'House', 'Condo', 'Apartment', 'Apartment', 'Condo',\n",
              "       'Condo', 'House', 'Condo', 'Apartment', 'House', 'House', 'House',\n",
              "       'Condo', 'Apartment', 'House', 'Apartment', 'House', 'Condo',\n",
              "       'Apartment'], dtype=object)"
            ]
          },
          "metadata": {},
          "execution_count": 97
        }
      ]
    },
    {
      "cell_type": "code",
      "source": [
        "kalgo(X_train, X_test,5)"
      ],
      "metadata": {
        "colab": {
          "base_uri": "https://localhost:8080/"
        },
        "id": "KyLX-5IvNpVp",
        "outputId": "098613e7-9927-4571-f647-0396f9726923"
      },
      "execution_count": null,
      "outputs": [
        {
          "output_type": "stream",
          "name": "stdout",
          "text": [
            "[ 4 14  0  2 16]\n",
            "{'Apartment': 4, 'Condo': 1}\n",
            "[16  6 14  4  0]\n",
            "{'Apartment': 4, 'Condo': 1}\n",
            "[ 9 18 17 19 12]\n",
            "{'Apartment': 2, 'Condo': 1, 'House': 2}\n",
            "[13 10 15  7 12]\n",
            "{'Condo': 1, 'House': 4}\n",
            "[12 13 10 11 19]\n",
            "{'House': 3, 'Condo': 1, 'Apartment': 1}\n"
          ]
        }
      ]
    },
    {
      "cell_type": "code",
      "source": [
        "model = kalgo(X_train, X_test,5)"
      ],
      "metadata": {
        "colab": {
          "base_uri": "https://localhost:8080/"
        },
        "id": "NG9DnnshZ_Pf",
        "outputId": "0a53de1d-0ec8-49b7-e67f-5396af5f5bee"
      },
      "execution_count": null,
      "outputs": [
        {
          "output_type": "stream",
          "name": "stdout",
          "text": [
            "[ 4 14  0  2 16]\n",
            "{'Apartment': 4, 'Condo': 1}\n",
            "[16  6 14  4  0]\n",
            "{'Apartment': 4, 'Condo': 1}\n",
            "[ 9 18 17 19 12]\n",
            "{'Apartment': 2, 'Condo': 1, 'House': 2}\n",
            "[13 10 15  7 12]\n",
            "{'Condo': 1, 'House': 4}\n",
            "[12 13 10 11 19]\n",
            "{'House': 3, 'Condo': 1, 'Apartment': 1}\n"
          ]
        }
      ]
    },
    {
      "cell_type": "code",
      "source": [
        "model"
      ],
      "metadata": {
        "colab": {
          "base_uri": "https://localhost:8080/"
        },
        "id": "EjkqS1fnSWGL",
        "outputId": "882d401d-8880-4a2f-a332-34b0469c6105"
      },
      "execution_count": null,
      "outputs": [
        {
          "output_type": "execute_result",
          "data": {
            "text/plain": [
              "['Apartment', 'Apartment', 'Apartment', 'House', 'House']"
            ]
          },
          "metadata": {},
          "execution_count": 108
        }
      ]
    },
    {
      "cell_type": "code",
      "source": [
        "print(\"Accuracy\", metrics.accuracy_score(y_test,model))"
      ],
      "metadata": {
        "colab": {
          "base_uri": "https://localhost:8080/"
        },
        "id": "Gqe2QhONSnzb",
        "outputId": "12dbdabb-9ec2-46f9-e7f7-d5abcab82c8f"
      },
      "execution_count": null,
      "outputs": [
        {
          "output_type": "stream",
          "name": "stdout",
          "text": [
            "Accuracy 0.2\n"
          ]
        }
      ]
    },
    {
      "cell_type": "code",
      "source": [
        "### Checking with scikit learn for reference\n",
        "from sklearn.neighbors import KNeighborsClassifier"
      ],
      "metadata": {
        "id": "dcdvrc08gbJl"
      },
      "execution_count": null,
      "outputs": []
    },
    {
      "cell_type": "code",
      "source": [
        "for i in range(1,20):\n",
        "  knear = KNeighborsClassifier(n_neighbors=i)\n",
        "  knear.fit(X_train, y_train)\n",
        "  predict = knear.predict(X_test)\n",
        "  print(\"Accuracy\", metrics.accuracy_score(y_test,predict))"
      ],
      "metadata": {
        "colab": {
          "base_uri": "https://localhost:8080/"
        },
        "id": "xjB0jW00g_a5",
        "outputId": "6d1885d9-6552-4847-e023-ab0a218fa245"
      },
      "execution_count": null,
      "outputs": [
        {
          "output_type": "stream",
          "name": "stdout",
          "text": [
            "Accuracy 0.2\n",
            "Accuracy 0.2\n",
            "Accuracy 0.2\n",
            "Accuracy 0.2\n",
            "Accuracy 0.2\n",
            "Accuracy 0.4\n",
            "Accuracy 0.4\n",
            "Accuracy 0.4\n",
            "Accuracy 0.4\n",
            "Accuracy 0.4\n",
            "Accuracy 0.4\n",
            "Accuracy 0.4\n",
            "Accuracy 0.4\n",
            "Accuracy 0.4\n",
            "Accuracy 0.4\n",
            "Accuracy 0.6\n",
            "Accuracy 0.6\n",
            "Accuracy 0.6\n",
            "Accuracy 0.6\n"
          ]
        }
      ]
    },
    {
      "cell_type": "code",
      "source": [
        "accuracy_list = []\n",
        "for i in range(1,11):\n",
        "  y_pred_knear = kalgo(X_train, X_test,i)\n",
        "  print(y_pred_knear)\n",
        "  accr = metrics.accuracy_score(y_test,y_pred_knear)\n",
        "  print(\"Accuracy\", metrics.accuracy_score(y_test,y_pred_knear))\n",
        "  accuracy_list.append(accr)"
      ],
      "metadata": {
        "colab": {
          "base_uri": "https://localhost:8080/"
        },
        "id": "HB1IPhfAhI7K",
        "outputId": "787eb5bf-3771-48db-a574-2856f2553d49"
      },
      "execution_count": null,
      "outputs": [
        {
          "output_type": "stream",
          "name": "stdout",
          "text": [
            "[4]\n",
            "{'Apartment': 1}\n",
            "[16]\n",
            "{'Apartment': 1}\n",
            "[9]\n",
            "{'Apartment': 1}\n",
            "[13]\n",
            "{'Condo': 1}\n",
            "[12]\n",
            "{'House': 1}\n",
            "['Apartment', 'Apartment', 'Apartment', 'Condo', 'House']\n",
            "Accuracy 0.2\n",
            "[ 4 14]\n",
            "{'Apartment': 2}\n",
            "[16  6]\n",
            "{'Apartment': 1, 'Condo': 1}\n",
            "[ 9 18]\n",
            "{'Apartment': 1, 'Condo': 1}\n",
            "[13 10]\n",
            "{'Condo': 1, 'House': 1}\n",
            "[12 13]\n",
            "{'House': 1, 'Condo': 1}\n",
            "['Apartment', 'Apartment', 'Apartment', 'Condo', 'House']\n",
            "Accuracy 0.2\n",
            "[ 4 14  0]\n",
            "{'Apartment': 3}\n",
            "[16  6 14]\n",
            "{'Apartment': 2, 'Condo': 1}\n",
            "[ 9 18 17]\n",
            "{'Apartment': 1, 'Condo': 1, 'House': 1}\n",
            "[13 10 15]\n",
            "{'Condo': 1, 'House': 2}\n",
            "[12 13 10]\n",
            "{'House': 2, 'Condo': 1}\n",
            "['Apartment', 'Apartment', 'Apartment', 'House', 'House']\n",
            "Accuracy 0.2\n",
            "[ 4 14  0  2]\n",
            "{'Apartment': 3, 'Condo': 1}\n",
            "[16  6 14  4]\n",
            "{'Apartment': 3, 'Condo': 1}\n",
            "[ 9 18 17 19]\n",
            "{'Apartment': 2, 'Condo': 1, 'House': 1}\n",
            "[13 10 15  7]\n",
            "{'Condo': 1, 'House': 3}\n",
            "[12 13 10 11]\n",
            "{'House': 3, 'Condo': 1}\n",
            "['Apartment', 'Apartment', 'Apartment', 'House', 'House']\n",
            "Accuracy 0.2\n",
            "[ 4 14  0  2 16]\n",
            "{'Apartment': 4, 'Condo': 1}\n",
            "[16  6 14  4  0]\n",
            "{'Apartment': 4, 'Condo': 1}\n",
            "[ 9 18 17 19 12]\n",
            "{'Apartment': 2, 'Condo': 1, 'House': 2}\n",
            "[13 10 15  7 12]\n",
            "{'Condo': 1, 'House': 4}\n",
            "[12 13 10 11 19]\n",
            "{'House': 3, 'Condo': 1, 'Apartment': 1}\n",
            "['Apartment', 'Apartment', 'Apartment', 'House', 'House']\n",
            "Accuracy 0.2\n",
            "[ 4 14  0  2 16  6]\n",
            "{'Apartment': 4, 'Condo': 2}\n",
            "[16  6 14  4  0  3]\n",
            "{'Apartment': 5, 'Condo': 1}\n",
            "[ 9 18 17 19 12 11]\n",
            "{'Apartment': 2, 'Condo': 1, 'House': 3}\n",
            "[13 10 15  7 12 11]\n",
            "{'Condo': 1, 'House': 5}\n",
            "[12 13 10 11 19 15]\n",
            "{'House': 4, 'Condo': 1, 'Apartment': 1}\n",
            "['Apartment', 'Apartment', 'House', 'House', 'House']\n",
            "Accuracy 0.4\n",
            "[ 4 14  0  2 16  6  3]\n",
            "{'Apartment': 5, 'Condo': 2}\n",
            "[16  6 14  4  0  3  8]\n",
            "{'Apartment': 5, 'Condo': 2}\n",
            "[ 9 18 17 19 12 11 13]\n",
            "{'Apartment': 2, 'Condo': 2, 'House': 3}\n",
            "[13 10 15  7 12 11 19]\n",
            "{'Condo': 1, 'House': 5, 'Apartment': 1}\n",
            "[12 13 10 11 19 15  7]\n",
            "{'House': 5, 'Condo': 1, 'Apartment': 1}\n",
            "['Apartment', 'Apartment', 'House', 'House', 'House']\n",
            "Accuracy 0.4\n",
            "[ 4 14  0  2 16  6  3  8]\n",
            "{'Apartment': 5, 'Condo': 3}\n",
            "[16  6 14  4  0  3  8  5]\n",
            "{'Apartment': 5, 'Condo': 3}\n",
            "[ 9 18 17 19 12 11 13 10]\n",
            "{'Apartment': 2, 'Condo': 2, 'House': 4}\n",
            "[13 10 15  7 12 11 19 17]\n",
            "{'Condo': 1, 'House': 6, 'Apartment': 1}\n",
            "[12 13 10 11 19 15  7 17]\n",
            "{'House': 6, 'Condo': 1, 'Apartment': 1}\n",
            "['Apartment', 'Apartment', 'House', 'House', 'House']\n",
            "Accuracy 0.4\n",
            "[ 4 14  0  2 16  6  3  8 13]\n",
            "{'Apartment': 5, 'Condo': 4}\n",
            "[16  6 14  4  0  3  8  5  2]\n",
            "{'Apartment': 5, 'Condo': 4}\n",
            "[ 9 18 17 19 12 11 13 10  7]\n",
            "{'Apartment': 2, 'Condo': 2, 'House': 5}\n",
            "[13 10 15  7 12 11 19 17  2]\n",
            "{'Condo': 2, 'House': 6, 'Apartment': 1}\n",
            "[12 13 10 11 19 15  7 17  2]\n",
            "{'House': 6, 'Condo': 2, 'Apartment': 1}\n",
            "['Apartment', 'Apartment', 'House', 'House', 'House']\n",
            "Accuracy 0.4\n",
            "[ 4 14  0  2 16  6  3  8 13 10]\n",
            "{'Apartment': 5, 'Condo': 4, 'House': 1}\n",
            "[16  6 14  4  0  3  8  5  2  1]\n",
            "{'Apartment': 5, 'Condo': 4, 'House': 1}\n",
            "[ 9 18 17 19 12 11 13 10  7 15]\n",
            "{'Apartment': 2, 'Condo': 2, 'House': 6}\n",
            "[13 10 15  7 12 11 19 17  2  4]\n",
            "{'Condo': 2, 'House': 6, 'Apartment': 2}\n",
            "[12 13 10 11 19 15  7 17  2 18]\n",
            "{'House': 6, 'Condo': 3, 'Apartment': 1}\n",
            "['Apartment', 'Apartment', 'House', 'House', 'House']\n",
            "Accuracy 0.4\n"
          ]
        }
      ]
    },
    {
      "cell_type": "code",
      "source": [
        "accuracy_list"
      ],
      "metadata": {
        "colab": {
          "base_uri": "https://localhost:8080/"
        },
        "id": "dVf7ZM9cjnZM",
        "outputId": "67516ef0-b064-4f3a-9212-9c24489fdfa0"
      },
      "execution_count": null,
      "outputs": [
        {
          "output_type": "execute_result",
          "data": {
            "text/plain": [
              "[0.2, 0.2, 0.2, 0.2, 0.2, 0.4, 0.4, 0.4, 0.4, 0.4]"
            ]
          },
          "metadata": {},
          "execution_count": 155
        }
      ]
    },
    {
      "cell_type": "code",
      "source": [
        "import matplotlib.pyplot as plt"
      ],
      "metadata": {
        "id": "swhytDFmiAKM"
      },
      "execution_count": null,
      "outputs": []
    },
    {
      "cell_type": "markdown",
      "source": [
        "### Plot 1\n",
        "Plot 1 is obtained by ranging the neighbors 1 though 5. Here I think there is more bias and less variance, so underfitting is happening here, hence the low accuracy."
      ],
      "metadata": {
        "id": "h4evy6KAkNwA"
      }
    },
    {
      "cell_type": "code",
      "source": [
        "plt.plot(accuracy_list)\n",
        "plt.xlabel(\"Number of neighbors\")\n",
        "plt.ylabel(\"Accuracy score\")"
      ],
      "metadata": {
        "colab": {
          "base_uri": "https://localhost:8080/",
          "height": 296
        },
        "id": "ybCvHTkki_sz",
        "outputId": "b227ac65-da09-4465-c56e-5de84d066631"
      },
      "execution_count": null,
      "outputs": [
        {
          "output_type": "execute_result",
          "data": {
            "text/plain": [
              "Text(0, 0.5, 'Accuracy score')"
            ]
          },
          "metadata": {},
          "execution_count": 152
        },
        {
          "output_type": "display_data",
          "data": {
            "text/plain": [
              "<Figure size 432x288 with 1 Axes>"
            ],
            "image/png": "[encoded data removed]"
          },
          "metadata": {
            "needs_background": "light"
          }
        }
      ]
    },
    {
      "cell_type": "markdown",
      "source": [
        "### Plot 2\n",
        "Plot 2 is obtained by ranging the neighbors from 1 through 10. Here the accuracy rises to 0.4 from 0.2 as the number of neighbors goes over 5. "
      ],
      "metadata": {
        "id": "RMzKc2fkoTfv"
      }
    },
    {
      "cell_type": "code",
      "source": [
        "plt.plot(accuracy_list)\n",
        "plt.xlabel(\"Number of neighbors\")\n",
        "plt.ylabel(\"Accuracy score\")"
      ],
      "metadata": {
        "colab": {
          "base_uri": "https://localhost:8080/",
          "height": 296
        },
        "id": "ssexkJeWkYTT",
        "outputId": "0cb1511a-3149-45a6-ebfc-cb30e2f5cf73"
      },
      "execution_count": null,
      "outputs": [
        {
          "output_type": "execute_result",
          "data": {
            "text/plain": [
              "Text(0, 0.5, 'Accuracy score')"
            ]
          },
          "metadata": {},
          "execution_count": 156
        },
        {
          "output_type": "display_data",
          "data": {
            "text/plain": [
              "<Figure size 432x288 with 1 Axes>"
            ],
            "image/png": "[encoded data removed]"
          },
          "metadata": {
            "needs_background": "light"
          }
        }
      ]
    },
    {
      "cell_type": "markdown",
      "source": [
        "### Plot 3 \n",
        "Plot 3 is obtained by ranging the neighbors from 1 through 23, yes, actaully here neighbors are greater than the samples. I think 20 neighbors for 20 samples is the perfect example of overfitting. Surprisingly, the highest accuracy of 0.6 is obtained at k=18 and k=19. As the neighbors > samples, the accuracy drop to 0.2. "
      ],
      "metadata": {
        "id": "FId-DVhWopEf"
      }
    },
    {
      "cell_type": "code",
      "source": [
        "plt.plot(accuracy_list)\n",
        "plt.xlabel(\"Number of neighbors\")\n",
        "plt.ylabel(\"Accuracy score\")"
      ],
      "metadata": {
        "colab": {
          "base_uri": "https://localhost:8080/",
          "height": 296
        },
        "id": "9jPAANRvknJq",
        "outputId": "f243ac12-b688-4964-a0fd-55583e9f8cb5"
      },
      "execution_count": null,
      "outputs": [
        {
          "output_type": "execute_result",
          "data": {
            "text/plain": [
              "Text(0, 0.5, 'Accuracy score')"
            ]
          },
          "metadata": {},
          "execution_count": 148
        },
        {
          "output_type": "display_data",
          "data": {
            "text/plain": [
              "<Figure size 432x288 with 1 Axes>"
            ],
            "image/png": "[encoded data removed]"
          },
          "metadata": {
            "needs_background": "light"
          }
        }
      ]
    },
    {
      "cell_type": "code",
      "source": [],
      "metadata": {
        "id": "WrZWxyYKoQc_"
      },
      "execution_count": null,
      "outputs": []
    }
  ]
}