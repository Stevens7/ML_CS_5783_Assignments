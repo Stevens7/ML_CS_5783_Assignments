{
  "nbformat": 4,
  "nbformat_minor": 0,
  "metadata": {
    "colab": {
      "provenance": [],
      "collapsed_sections": []
    },
    "kernelspec": {
      "name": "python3",
      "display_name": "Python 3"
    },
    "language_info": {
      "name": "python"
    }
  },
  "cells": [
    {
      "cell_type": "markdown",
      "source": [
        "## Assignment 0 - Python Fundamentals\n",
        "## Stevens Johnson\n",
        "## A20244433"
      ],
      "metadata": {
        "id": "8nxjQinBpHd5"
      }
    },
    {
      "cell_type": "code",
      "execution_count": null,
      "metadata": {
        "id": "01bqmDR5zfSL"
      },
      "outputs": [],
      "source": [
        "# Problem 1: file  I/O  operations, dictionaries, Numpy arrays and visualization with Matplotlib\n",
        "\n",
        "#Read file text.txt"
      ]
    },
    {
      "cell_type": "code",
      "source": [
        "# importing libraries\n",
        "import numpy as np\n",
        "import matplotlib.pyplot as mp\n",
        "from collections import OrderedDict\n",
        "import cv2"
      ],
      "metadata": {
        "id": "-6-y_KFt0xpA"
      },
      "execution_count": null,
      "outputs": []
    },
    {
      "cell_type": "code",
      "source": [
        "# code for accessing google drive files\n",
        "from google.colab import drive\n",
        "drive.mount('/content/drive')"
      ],
      "metadata": {
        "colab": {
          "base_uri": "https://localhost:8080/"
        },
        "id": "P2j-3ve304Oi",
        "outputId": "62b4983b-2c3c-4a9a-dba0-be818ea04e75"
      },
      "execution_count": null,
      "outputs": [
        {
          "output_type": "stream",
          "name": "stdout",
          "text": [
            "Drive already mounted at /content/drive; to attempt to forcibly remount, call drive.mount(\"/content/drive\", force_remount=True).\n"
          ]
        }
      ]
    },
    {
      "cell_type": "code",
      "source": [
        "# Reading text file\n",
        "file_path = '/content/drive/My Drive/Colab Notebooks/Files/test.txt'\n",
        "test = open(file_path)\n",
        "dict = {}\n",
        "for line in test:\n",
        "  line = line.lower()\n",
        "  for x in line:\n",
        "    if x.isalpha():\n",
        "      count = line.count(x) # Counting the frequency of the letter\n",
        "      exist_count = dict.get(x,0) # Getting the previous count values, or returning a value of 0 if the key does not exist\n",
        "      dict[x] = count + exist_count # Setting the key value pairs. "
      ],
      "metadata": {
        "id": "1efOUF7L1caw"
      },
      "execution_count": null,
      "outputs": []
    },
    {
      "cell_type": "code",
      "source": [
        "new_d = OrderedDict(sorted(dict.items(), key=lambda t: t[0])) # Sorting in alphabetical order using collections library\n",
        "print(new_d)"
      ],
      "metadata": {
        "colab": {
          "base_uri": "https://localhost:8080/"
        },
        "id": "WeE2pdEXsNWx",
        "outputId": "2e24c41a-af6d-4d23-d956-3a75822c45b9"
      },
      "execution_count": null,
      "outputs": [
        {
          "output_type": "stream",
          "name": "stdout",
          "text": [
            "OrderedDict([('a', 122), ('b', 28), ('c', 25), ('d', 60), ('e', 297), ('f', 22), ('g', 25), ('h', 33), ('i', 174), ('j', 25), ('k', 22), ('l', 34), ('m', 22), ('n', 44), ('o', 158), ('p', 33), ('q', 22), ('r', 124), ('s', 31), ('t', 88), ('u', 74), ('v', 22), ('w', 22), ('x', 22), ('y', 39), ('z', 25)])\n"
          ]
        }
      ]
    },
    {
      "cell_type": "code",
      "source": [
        "# Converting dictionary to a numpy array\n",
        "values = new_d.values() # Getting the values of the dictionary\n",
        "list_values = list(values) # Converting the values into a list\n",
        "numArr = np.array(list_values) # Creating the numpy array with the values list\n",
        "print(numArr)"
      ],
      "metadata": {
        "colab": {
          "base_uri": "https://localhost:8080/"
        },
        "id": "itls0-G3h0TU",
        "outputId": "952a721b-f28a-45c6-fc89-e1062cb93272"
      },
      "execution_count": null,
      "outputs": [
        {
          "output_type": "stream",
          "name": "stdout",
          "text": [
            "[122  28  25  60 297  22  25  33 174  25  22  34  22  44 158  33  22 124\n",
            "  31  88  74  22  22  22  39  25]\n"
          ]
        }
      ]
    },
    {
      "cell_type": "code",
      "source": [
        "# Unnormalized plotting\n",
        "mp.bar(list(new_d.keys()), list_values) # Feeding the bar graph\n",
        "mp.xlabel('Alphabets') \n",
        "mp.ylabel('Frequency')\n",
        "mp.show() # Plotting"
      ],
      "metadata": {
        "colab": {
          "base_uri": "https://localhost:8080/",
          "height": 279
        },
        "id": "d2w-nhzskj8p",
        "outputId": "81c7a873-4135-4cbf-e4b5-3fc8ab55a645"
      },
      "execution_count": null,
      "outputs": [
        {
          "output_type": "display_data",
          "data": {
            "text/plain": [
              "<Figure size 432x288 with 1 Axes>"
            ],
            "image/png": "[encoded data removed]"
          },
          "metadata": {
            "needs_background": "light"
          }
        }
      ]
    },
    {
      "cell_type": "code",
      "source": [
        "sum = np.sum(numArr) # Taking the sum of the frequencies \n",
        "\n",
        "# Normalized plotting\n",
        "norm_val_list = [x/sum for x in list_values] # Normalized list of freqeuncies by dividing each alphabet frequency with the sum\n",
        "mp.bar(list(new_d.keys()), norm_val_list) # Feeding the bar graph with the normalized freqeucnies\n",
        "mp.xlabel('Alphabets')\n",
        "mp.ylabel('Frequency')\n",
        "mp.show()"
      ],
      "metadata": {
        "colab": {
          "base_uri": "https://localhost:8080/",
          "height": 279
        },
        "id": "1-REobCPmFpl",
        "outputId": "bd423be6-cbe7-46f0-c035-b9ec1bd43aa1"
      },
      "execution_count": null,
      "outputs": [
        {
          "output_type": "display_data",
          "data": {
            "text/plain": [
              "<Figure size 432x288 with 1 Axes>"
            ],
            "image/png": "[encoded data removed]"
          },
          "metadata": {
            "needs_background": "light"
          }
        }
      ]
    },
    {
      "cell_type": "markdown",
      "source": [
        "## Problem 2.1"
      ],
      "metadata": {
        "id": "cJY_v59pq8oq"
      }
    },
    {
      "cell_type": "code",
      "source": [
        "image_path = '/content/drive/My Drive/Colab Notebooks/Files/test.png'\n",
        "image = cv2.imread(image_path) # Reading the file into a numpy array using cv2\n",
        "points = np.array([[255, 0, 0],[0, 255, 0], [0, 0, 255]]) # Defining the points array to find the euclidean distance"
      ],
      "metadata": {
        "id": "7Jke0YzZ_uRz"
      },
      "execution_count": null,
      "outputs": []
    },
    {
      "cell_type": "code",
      "source": [
        "x_list = [*range(0,128,1)] # The list helps to iterate through the 3-D array to get the 1-D array to compute the euclidean distance with the points array\n",
        "for x in x_list:\n",
        "  for y in x_list:\n",
        "    sum_1 = np.sum(np.square(image[x][y]-points[0])) # Doing (x2-x1)^2 + (y2-y1)^2 + (z2-z1)^2 where x2,y2,z2 are from the image array and x1,y1,z1 are from the points array\n",
        "    dist_1 = np.sqrt(sum_1) # Taking the square root to compute the euclidean distance\n",
        "    sum_2 = np.sum(np.square(image[x][y]-points[1])) # Doing the same for the other two points\n",
        "    dist_2 = np.sqrt(sum_2)\n",
        "    sum_3 = np.sum(np.square(image[x][y]-points[2]))\n",
        "    dist_3 = np.sqrt(sum_3)\n",
        "    if dist_1 <= dist_2 and dist_1 <= dist_3:  # Finding the smallest of the three distances\n",
        "      image[x][y] = points[0] # If the first distance is the smallest, then setting that pixel to [255,0,0]\n",
        "    elif dist_2 < dist_1 and dist_2 < dist_3:\n",
        "      image[x][y] = points[1] # If the second distance is the smallest, then setting the pixel to [0,255,0]\n",
        "    else:\n",
        "      image[x][y] = points[2] # If the third distance is the smallest, then setting the pixel to [0,0,255]"
      ],
      "metadata": {
        "id": "lR1ySNtPd7bP"
      },
      "execution_count": null,
      "outputs": []
    },
    {
      "cell_type": "code",
      "source": [
        "cv2.imwrite('/content/drive/My Drive/Colab Notebooks/Files/output1.png', image) # Writing the file"
      ],
      "metadata": {
        "colab": {
          "base_uri": "https://localhost:8080/"
        },
        "id": "7IK_sxhwr9BY",
        "outputId": "002cbcf0-079a-48d2-fa49-6a41965aa36e"
      },
      "execution_count": null,
      "outputs": [
        {
          "output_type": "execute_result",
          "data": {
            "text/plain": [
              "True"
            ]
          },
          "metadata": {},
          "execution_count": 69
        }
      ]
    },
    {
      "cell_type": "markdown",
      "source": [
        "## Problem 2.2"
      ],
      "metadata": {
        "id": "vooaZYrytTYi"
      }
    },
    {
      "cell_type": "code",
      "source": [
        "# Find the centroid of the image\n",
        "image_copy = cv2.imread(image_path)\n",
        "height, width = image_copy.shape[0:2] # Find the width and height of the image\n",
        "center_x = width//2 # The x-coordinate of the centroid is half of the width of the image\n",
        "center_y = height//2 # The y-coordinate of the centroid is half of the height of the image"
      ],
      "metadata": {
        "id": "YSBwdGkoEx1_"
      },
      "execution_count": null,
      "outputs": []
    },
    {
      "cell_type": "code",
      "source": [
        "# Draw a square around the centroid with color [0,0,0]\n",
        "cv2.rectangle(image_copy, (center_x - 35,center_y + 35),(center_x + 35,center_y - 35), (0,0,0), -1) # Drawing a sqaure with the rectangle function\n",
        "# Point 1 is the top left corner of the square. Length of 50 is achieved by taking 25 from the center to the left and up. By pythogorus theorem, 35.3 is obtained; rounding 35.\n",
        "# Point 2 is the bottom right corner of the sqaure. Same distance of 35 can be used to reach the bottom right corner. \n",
        "# -1 thickness shades the region enclosed by the square"
      ],
      "metadata": {
        "id": "iZAuLZkUTK-D"
      },
      "execution_count": null,
      "outputs": []
    },
    {
      "cell_type": "code",
      "source": [
        "cv2.imwrite('/content/drive/My Drive/Colab Notebooks/Files/output2.png', image_copy)"
      ],
      "metadata": {
        "colab": {
          "base_uri": "https://localhost:8080/"
        },
        "id": "68gC1KwAMS2B",
        "outputId": "43f27438-391e-40e1-b351-89abba8e54d0"
      },
      "execution_count": null,
      "outputs": [
        {
          "output_type": "execute_result",
          "data": {
            "text/plain": [
              "True"
            ]
          },
          "metadata": {},
          "execution_count": 118
        }
      ]
    },
    {
      "cell_type": "markdown",
      "source": [
        "## Problem 3"
      ],
      "metadata": {
        "id": "BM1wdSEn9aoq"
      }
    },
    {
      "cell_type": "code",
      "source": [
        "a = np.array([[3,3],[4,2]]) # Here the coefficients of x and y are entered into the array (a1.x + a2.y = z)\n",
        "b = np.array([[11.25],[10.0]]) # Here the constants (z) are entered\n",
        "\n",
        "print(np.linalg.solve(a,b)) # Using solve function to find the values of x and y.\n",
        "# The cost of a soft taco is $1.25\n",
        "# The cost of a burrito is $2.5"
      ],
      "metadata": {
        "colab": {
          "base_uri": "https://localhost:8080/"
        },
        "id": "vXica3_591yx",
        "outputId": "76e426cf-765c-4b48-a5e9-00b86698bcfa"
      },
      "execution_count": null,
      "outputs": [
        {
          "output_type": "stream",
          "name": "stdout",
          "text": [
            "[[1.25]\n",
            " [2.5 ]]\n"
          ]
        }
      ]
    }
  ]
}